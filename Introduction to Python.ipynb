{
  "cells": [
    {
      "cell_type": "markdown",
      "metadata": {
        "id": "y6Axkpdw0B-U"
      },
      "source": [
        "<img src=\"https://logos-download.com/wp-content/uploads/2016/10/Python_logo_wordmark-700x203.png\"/>"
      ]
    },
    {
      "cell_type": "markdown",
      "metadata": {
        "id": "4s5kcWsE0B-X"
      },
      "source": [
        "> You can follow me in :\n",
        "* [Linkedin](https://www.linkedin.com/in/sajjad-ranjbargolafshani-32a951211/). \n",
        "* [Instagram](https://www.instagram.com/sajjad.__.ranjbar/).\n",
        "* [Github](https://github.com/sajjadranjbar73).\n",
        "\n"
      ]
    },
    {
      "cell_type": "markdown",
      "metadata": {
        "id": "KW43utaF0B-Y"
      },
      "source": [
        "<img src='https://upload.wikimedia.org/wikipedia/en/thumb/c/cd/Anaconda_Logo.png/330px-Anaconda_Logo.png'>\n",
        "\n",
        "# 1. Jupyter notebook\n",
        "\n",
        "Based on Professionals in Data Science and Machine learning Field, I strongly recommend installing Python and Jupyter using the Anaconda Distribution too, which includes Python, the Jupyter Notebook, and other commonly used packages for scientific computing and data science.\n",
        "\n",
        "* First, download Anaconda. Downloading Anaconda’s latest Python 3 version is recommended.\n",
        "\n",
        "* Second, install the version of Anaconda which you downloaded, following the instructions on the download page.\n",
        "\n",
        "Congratulations, you have installed Jupyter Notebook! \n",
        "To run the notebook, run the following command in Linux:\n",
        "\n",
        "> jupyter notebook\n",
        "\n",
        "<img src=\"https://camo.githubusercontent.com/e3737e210ded6e9b6b60719c456156f12ecb4e202e84b28e8295a5780040a508/687474703a2f2f73382e7069636f66696c652e636f6d2f66696c652f383333383232373836382f7061636b616765732e706e67\" />\n"
      ]
    },
    {
      "cell_type": "markdown",
      "metadata": {
        "id": "GmeZ_CjR0B-Z"
      },
      "source": [
        "# 2. Machine Learning Workflow\n",
        "\n",
        "There are different ways in Machine learning as follows:\n",
        "\n",
        "* Define Problem\n",
        "* Specify Inputs & Outputs\n",
        "* Exploratory data analysis\n",
        "* Data Collection\n",
        "* Data Preprocessing\n",
        "* Data Cleaning\n",
        "* Visualization\n",
        "* Model Design, Training, and Offline Evaluation\n",
        "* Model Deployment, Online Evaluation, and Monitoring\n",
        "* Model Maintenance, Diagnosis, and Retraining\n",
        "\n",
        "\n",
        "<img src=\"https://camo.githubusercontent.com/6a19d19ffa69d5941183da1f0654db51182d73b79a448b1cdf1d6a7734a9232f/687474703a2f2f73392e7069636f66696c652e636f6d2f66696c652f383333383232373633342f776f726b666c6f772e706e67\" />"
      ]
    },
    {
      "cell_type": "markdown",
      "metadata": {
        "id": "f29B7Yx_0B-b"
      },
      "source": [
        "# 3. Packages Used in Machine Learning \n",
        "\n",
        "Most of Articles and books listed these libraries in python:\n",
        "\n",
        "* `Numpy` : \n",
        "NumPy is the fundamental package for scientific computing with Python.\n",
        "* `Pandas` : \n",
        "pandas is an open source, BSD-licensed library providing high-performance, easy-to-use data structures and data analysis tools for the Python programming language.\n",
        "* `Scipy`: \n",
        "SciPy (pronounced “Sigh Pie”) is a Python-based ecosystem of open-source software for mathematics, science, and engineering.\n",
        "* `Matplotlib`: \n",
        "Matplotlib is a Python 2D plotting library which produces publication quality figures in a variety of hardcopy formats and interactive environments across platforms.\n",
        "* `Seaborn`:\n",
        "Seaborn is a Python data visualization library based on matplotlib. It provides a high-level interface for drawing attractive and informative statistical graphics.\n",
        "* `Scikit learn`: \n",
        "Simple and efficient tools for data mining and data analysis and Machine learning.\n",
        "* `Tensorflow`:\n",
        "An open source machine learning and Deep learning framework for everyone made by Google.\n",
        "* `Keras`: \n",
        "Keras is a high-level neural networks API, written in Python and capable of running on top of TensorFlow, CNTK, or Theano.\n",
        "<img src='https://camo.githubusercontent.com/9cf244912130ce8b0ee4ce4d4366982572022046bb7ae68e762833064f7c8e58/687474703a2f2f73382e7069636f66696c652e636f6d2f66696c652f383333383232373733342f50726f626c656d446566696e6174696f6e2e706e67'>"
      ]
    },
    {
      "cell_type": "markdown",
      "metadata": {
        "id": "AcCejvWv0B-d"
      },
      "source": [
        "# 4. Exploratory Data Analysis(EDA)\n",
        "\n",
        "Exploratory data analysis (EDA) is an approach to analyzing data sets to summarize their main characteristics, often with visual methods. \n",
        "\n",
        "<img src='https://camo.githubusercontent.com/f47b95ea552b4cff689a98f50a5a7b6d93efecc4a80b2db018857e35271af2ea/687474703a2f2f73392e7069636f66696c652e636f6d2f66696c652f383333383437363133342f4544412e706e67'>"
      ]
    },
    {
      "cell_type": "markdown",
      "metadata": {
        "id": "8a8wowE70B-f"
      },
      "source": [
        "#  5. Let's Make our hands dirty with some python\n",
        "\n",
        "### Let's play a game!\n",
        "\n",
        "The scenario is: The player should guess a number, and he/she should guess it right!\n"
      ]
    },
    {
      "cell_type": "code",
      "execution_count": 1,
      "metadata": {
        "colab": {
          "base_uri": "https://localhost:8080/"
        },
        "id": "zRCv21El0B-g",
        "outputId": "5a2efef5-126a-4b17-a11a-de0412fef983"
      },
      "outputs": [
        {
          "output_type": "stream",
          "name": "stdout",
          "text": [
            "=== WELCOME ===\n"
          ]
        }
      ],
      "source": [
        "# guessing the number 42!\n",
        "x = 50\n",
        "\n",
        "# Introduction\n",
        "print('=== WELCOME ===')"
      ]
    },
    {
      "cell_type": "code",
      "execution_count": 2,
      "metadata": {
        "colab": {
          "base_uri": "https://localhost:8080/"
        },
        "id": "pUbqP12S0B-i",
        "outputId": "755813df-575e-4d79-fad0-4d55213d8eb9"
      },
      "outputs": [
        {
          "output_type": "execute_result",
          "data": {
            "text/plain": [
              "int"
            ]
          },
          "metadata": {},
          "execution_count": 2
        }
      ],
      "source": [
        "type(x)"
      ]
    },
    {
      "cell_type": "code",
      "execution_count": 3,
      "metadata": {
        "colab": {
          "base_uri": "https://localhost:8080/"
        },
        "id": "phTfYasK0B-j",
        "outputId": "a06ec269-b03a-4fbe-b9d8-d65c3a0ce456"
      },
      "outputs": [
        {
          "output_type": "execute_result",
          "data": {
            "text/plain": [
              "50"
            ]
          },
          "metadata": {},
          "execution_count": 3
        }
      ],
      "source": [
        "x"
      ]
    },
    {
      "cell_type": "code",
      "execution_count": 4,
      "metadata": {
        "colab": {
          "base_uri": "https://localhost:8080/"
        },
        "id": "zOU5r0Iy0B-k",
        "outputId": "89538956-a3b4-491d-8948-e978e3c83269"
      },
      "outputs": [
        {
          "output_type": "stream",
          "name": "stdout",
          "text": [
            "The number in your mind is : 50\n"
          ]
        }
      ],
      "source": [
        "print(\"The number in your mind is :\", x)"
      ]
    },
    {
      "cell_type": "code",
      "execution_count": 5,
      "metadata": {
        "colab": {
          "base_uri": "https://localhost:8080/"
        },
        "id": "KHyF4TRi0B-l",
        "outputId": "31922dbb-7ceb-484a-a956-5f85331f476d"
      },
      "outputs": [
        {
          "name": "stdout",
          "output_type": "stream",
          "text": [
            "guess a number: 4\n"
          ]
        }
      ],
      "source": [
        "# get the guessed number\n",
        "guessed = input('guess a number: ')"
      ]
    },
    {
      "cell_type": "code",
      "execution_count": 6,
      "metadata": {
        "colab": {
          "base_uri": "https://localhost:8080/",
          "height": 35
        },
        "id": "5FQHukyl0B-m",
        "outputId": "db65b2c8-4c9f-4325-c2b8-551fe61c7994"
      },
      "outputs": [
        {
          "output_type": "execute_result",
          "data": {
            "text/plain": [
              "'4'"
            ],
            "application/vnd.google.colaboratory.intrinsic+json": {
              "type": "string"
            }
          },
          "metadata": {},
          "execution_count": 6
        }
      ],
      "source": [
        "guessed"
      ]
    },
    {
      "cell_type": "markdown",
      "metadata": {
        "id": "lOvVMF430B-n"
      },
      "source": [
        "# TypeCasting"
      ]
    },
    {
      "cell_type": "code",
      "execution_count": 10,
      "metadata": {
        "colab": {
          "base_uri": "https://localhost:8080/"
        },
        "id": "4zJeJUkn0B-n",
        "outputId": "9da85090-ea2e-4b43-c0d5-a75443d70771"
      },
      "outputs": [
        {
          "output_type": "stream",
          "name": "stdout",
          "text": [
            "False\n"
          ]
        }
      ],
      "source": [
        "# check if the guess is right\n",
        "print(int(guessed) == x)"
      ]
    },
    {
      "cell_type": "code",
      "execution_count": 11,
      "metadata": {
        "colab": {
          "base_uri": "https://localhost:8080/"
        },
        "id": "GbuKMHiK0B-o",
        "outputId": "a391ddc0-fec9-44e8-d7d0-cb9f3be56d06"
      },
      "outputs": [
        {
          "output_type": "execute_result",
          "data": {
            "text/plain": [
              "int"
            ]
          },
          "metadata": {},
          "execution_count": 11
        }
      ],
      "source": [
        "type(x)"
      ]
    },
    {
      "cell_type": "code",
      "execution_count": 12,
      "metadata": {
        "colab": {
          "base_uri": "https://localhost:8080/"
        },
        "id": "EwNtrj2N0B-o",
        "outputId": "2abeaf14-089b-46b5-cfc5-78307ff3e478"
      },
      "outputs": [
        {
          "output_type": "execute_result",
          "data": {
            "text/plain": [
              "str"
            ]
          },
          "metadata": {},
          "execution_count": 12
        }
      ],
      "source": [
        "type(guessed)"
      ]
    },
    {
      "cell_type": "markdown",
      "metadata": {
        "id": "lLQJ9CxB0B-p"
      },
      "source": [
        "<img src=\"https://www.labsolution.lu/thumbnails/38102-225-0-Max.png\">"
      ]
    },
    {
      "cell_type": "markdown",
      "metadata": {
        "id": "l12d_G7m0B-q"
      },
      "source": [
        "## 5.2. Variables, Data Structures\n",
        "\n",
        "Variables could be of type `int, float, str, list, dict, ...`. (We will see `objects` later)"
      ]
    },
    {
      "cell_type": "code",
      "execution_count": 13,
      "metadata": {
        "colab": {
          "base_uri": "https://localhost:8080/"
        },
        "id": "aRS2bm8s0B-q",
        "outputId": "ee8f4df1-1268-43f8-b0b0-d3f50a857227"
      },
      "outputs": [
        {
          "output_type": "stream",
          "name": "stdout",
          "text": [
            "-10.82 , <class 'float'>\n"
          ]
        }
      ],
      "source": [
        "v_1 = -10.82\n",
        "print(v_1, ',',type(v_1))"
      ]
    },
    {
      "cell_type": "code",
      "execution_count": 14,
      "metadata": {
        "colab": {
          "base_uri": "https://localhost:8080/"
        },
        "id": "YtTCkZi_0B-r",
        "outputId": "4dca46be-3bb6-46c5-9806-fd92f83171df"
      },
      "outputs": [
        {
          "output_type": "stream",
          "name": "stdout",
          "text": [
            "-10 , <class 'int'>\n",
            "(1.9363366072701937e-16+3.1622776601683795j) , <class 'complex'>\n"
          ]
        }
      ],
      "source": [
        "# === integers and floats (and complex numbers) ===\n",
        "\n",
        "\n",
        "v_2 = int(v_1)\n",
        "print(v_2, ',',type(v_2))\n",
        "\n",
        "v_3 = v_2**0.5\n",
        "print(v_3, ',',type(v_3))"
      ]
    },
    {
      "cell_type": "markdown",
      "metadata": {
        "id": "WpOThbKp0B-r"
      },
      "source": [
        "## 5.3. Lists & tuples\n",
        "\n",
        "* python is zero-indexed.\n",
        "* tuples are just like lists... but immutable ones"
      ]
    },
    {
      "cell_type": "code",
      "execution_count": 15,
      "metadata": {
        "colab": {
          "base_uri": "https://localhost:8080/"
        },
        "id": "T-PY5NqI0B-s",
        "outputId": "00baff33-fe4e-4d0c-a748-f087eb2dc017"
      },
      "outputs": [
        {
          "output_type": "execute_result",
          "data": {
            "text/plain": [
              "float"
            ]
          },
          "metadata": {},
          "execution_count": 15
        }
      ],
      "source": [
        "type(v_1)\n"
      ]
    },
    {
      "cell_type": "code",
      "execution_count": 16,
      "metadata": {
        "colab": {
          "base_uri": "https://localhost:8080/"
        },
        "id": "SK15S9tf0B-s",
        "outputId": "af0c9a67-35f0-4c35-fe1c-a28359544496"
      },
      "outputs": [
        {
          "output_type": "stream",
          "name": "stdout",
          "text": [
            "<class 'float'>\n"
          ]
        }
      ],
      "source": [
        "print(type(v_1))"
      ]
    },
    {
      "cell_type": "code",
      "execution_count": 17,
      "metadata": {
        "colab": {
          "base_uri": "https://localhost:8080/"
        },
        "id": "M6gcPag50B-s",
        "outputId": "6140bf9a-ffb5-4207-b7d0-bf2100d30992"
      },
      "outputs": [
        {
          "output_type": "stream",
          "name": "stdout",
          "text": [
            "[0, 1, 2, 3, 4, 5, 6, 7, 8]   <class 'list'>\n"
          ]
        }
      ],
      "source": [
        "v_1 = [0,1,2,3,4,5,6,7,8]\n",
        "print(v_1, ' ',type(v_1))\n",
        "# \\n : Enter\n",
        "# \\t : Tab\n"
      ]
    },
    {
      "cell_type": "code",
      "execution_count": 18,
      "metadata": {
        "scrolled": true,
        "colab": {
          "base_uri": "https://localhost:8080/",
          "height": 321
        },
        "id": "lPV51byU0B-t",
        "outputId": "68aab84f-f74d-438e-d40e-fd3cc722d2f2"
      },
      "outputs": [
        {
          "output_type": "stream",
          "name": "stdout",
          "text": [
            "[0, 1, 2, 3, 4, 5, 6, 7, 8] \n",
            " <class 'list'>\n",
            "[2, 3, 4, 5, 6]\n",
            "[0, 1, 2, 3, 4, 5, 6, 7, 8]\n",
            "[1, 3, 5]\n",
            "<class 'tuple'>\n",
            "[10, 2, 3]\n"
          ]
        },
        {
          "output_type": "error",
          "ename": "TypeError",
          "evalue": "ignored",
          "traceback": [
            "\u001b[0;31m---------------------------------------------------------------------------\u001b[0m",
            "\u001b[0;31mTypeError\u001b[0m                                 Traceback (most recent call last)",
            "\u001b[0;32m<ipython-input-18-288f47890f4d>\u001b[0m in \u001b[0;36m<module>\u001b[0;34m\u001b[0m\n\u001b[1;32m     17\u001b[0m \u001b[0mv_1\u001b[0m\u001b[0;34m[\u001b[0m\u001b[0;36m0\u001b[0m\u001b[0;34m]\u001b[0m \u001b[0;34m=\u001b[0m \u001b[0;36m10\u001b[0m\u001b[0;34m\u001b[0m\u001b[0;34m\u001b[0m\u001b[0m\n\u001b[1;32m     18\u001b[0m \u001b[0mprint\u001b[0m\u001b[0;34m(\u001b[0m\u001b[0mv_1\u001b[0m\u001b[0;34m)\u001b[0m\u001b[0;34m\u001b[0m\u001b[0;34m\u001b[0m\u001b[0m\n\u001b[0;32m---> 19\u001b[0;31m \u001b[0mv_2\u001b[0m\u001b[0;34m[\u001b[0m\u001b[0;36m0\u001b[0m\u001b[0;34m]\u001b[0m \u001b[0;34m=\u001b[0m \u001b[0;36m10\u001b[0m\u001b[0;34m\u001b[0m\u001b[0;34m\u001b[0m\u001b[0m\n\u001b[0m",
            "\u001b[0;31mTypeError\u001b[0m: 'tuple' object does not support item assignment"
          ]
        }
      ],
      "source": [
        "# === lists & tuples ===\n",
        "\n",
        "v_1 = [0,1,2,3,4,5,6,7,8]\n",
        "print(v_1, '\\n',type(v_1))\n",
        "\n",
        "v_1[-1]\n",
        "\n",
        "# index ranges are fun!\n",
        "print(v_1[2:7])\n",
        "print(v_1[:100])\n",
        "print(v_1[1:6:2])\n",
        "# tuples are just like lists... but immutable ones\n",
        "v_1 = [1,2,3]\n",
        "v_2 = (1,2,3)\n",
        "print(type(v_2))\n",
        "\n",
        "v_1[0] = 10\n",
        "print(v_1)\n",
        "v_2[0] = 10"
      ]
    },
    {
      "cell_type": "code",
      "execution_count": null,
      "metadata": {
        "id": "Y_Y1u7y00B-t",
        "outputId": "94a93750-8ee7-4d42-8f36-a123b3132bca"
      },
      "outputs": [
        {
          "name": "stdout",
          "output_type": "stream",
          "text": [
            "V_1: <class 'list'>\n",
            "V_2: <class 'tuple'>\n"
          ]
        }
      ],
      "source": [
        "v_1 = [1,'X',3]\n",
        "print(\"V_1:\",type(v_1))\n",
        "v_2 = ('soheil',2,3)\n",
        "print(\"V_2:\",type(v_2))"
      ]
    },
    {
      "cell_type": "code",
      "execution_count": null,
      "metadata": {
        "id": "2XUAZaJb0B-u",
        "outputId": "4a24b9bf-1a85-44ef-a59e-85c2267c2c63"
      },
      "outputs": [
        {
          "ename": "TypeError",
          "evalue": "'tuple' object does not support item assignment",
          "output_type": "error",
          "traceback": [
            "\u001b[1;31m---------------------------------------------------------------------------\u001b[0m",
            "\u001b[1;31mTypeError\u001b[0m                                 Traceback (most recent call last)",
            "\u001b[1;32m<ipython-input-68-d87deb54e6d4>\u001b[0m in \u001b[0;36m<module>\u001b[1;34m\u001b[0m\n\u001b[1;32m----> 1\u001b[1;33m \u001b[0mv_2\u001b[0m\u001b[1;33m[\u001b[0m\u001b[1;36m0\u001b[0m\u001b[1;33m]\u001b[0m \u001b[1;33m=\u001b[0m \u001b[1;36m10\u001b[0m\u001b[1;33m\u001b[0m\u001b[1;33m\u001b[0m\u001b[0m\n\u001b[0m\u001b[0;32m      2\u001b[0m \u001b[0mprint\u001b[0m\u001b[1;33m(\u001b[0m\u001b[0mv_2\u001b[0m\u001b[1;33m)\u001b[0m\u001b[1;33m\u001b[0m\u001b[1;33m\u001b[0m\u001b[0m\n",
            "\u001b[1;31mTypeError\u001b[0m: 'tuple' object does not support item assignment"
          ]
        }
      ],
      "source": [
        "v_2[0] = 10\n",
        "print(v_2)\n"
      ]
    },
    {
      "cell_type": "markdown",
      "metadata": {
        "id": "v5DEPB3V0B-u"
      },
      "source": [
        "## 5.4. Strings\n"
      ]
    },
    {
      "cell_type": "code",
      "execution_count": null,
      "metadata": {
        "id": "r8zLq10b0B-u",
        "outputId": "bb012af5-3c76-4962-af24-199f4a9e19ad"
      },
      "outputs": [
        {
          "name": "stdout",
          "output_type": "stream",
          "text": [
            "This is a long string variable\n",
            "but not long enough , <class 'str'>\n",
            "his is a long string variable\n",
            "but not long enoug\n",
            " he said :\"I'm fine\"\n"
          ]
        }
      ],
      "source": [
        "# === Strings ===\n",
        "v_1 = 'This is a long string variable\\nbut not long enough'\n",
        "print(v_1, ',',type(v_1))\n",
        "\n",
        "# indexing in strings are just like lists\n",
        "print(v_1[1:-1])\n",
        "\n",
        "x = \" he said :\\\"I'm fine\\\"\"\n",
        "print(x)"
      ]
    },
    {
      "cell_type": "code",
      "execution_count": null,
      "metadata": {
        "id": "9k3zQxDE0B-v",
        "outputId": "56862d3c-4b58-4ba5-eb65-d8228498ae98"
      },
      "outputs": [
        {
          "data": {
            "text/plain": [
              "'T'"
            ]
          },
          "execution_count": 74,
          "metadata": {},
          "output_type": "execute_result"
        }
      ],
      "source": [
        "v_1[0:1]"
      ]
    },
    {
      "cell_type": "markdown",
      "metadata": {
        "id": "C96bLE6d0B-v"
      },
      "source": [
        "**Mini-puzzle:** How to reverse a word in a string?"
      ]
    },
    {
      "cell_type": "markdown",
      "metadata": {
        "id": "DElPkIhH0B-v"
      },
      "source": [
        "Python ---> nohtyP"
      ]
    },
    {
      "cell_type": "code",
      "execution_count": null,
      "metadata": {
        "id": "E0Eix1pj0B-w",
        "outputId": "c8aca558-6472-4869-f9eb-5c14aeee320f"
      },
      "outputs": [
        {
          "name": "stdout",
          "output_type": "stream",
          "text": [
            "enter a word:Python\n",
            "nohty\n"
          ]
        }
      ],
      "source": [
        "word = input ('enter a word:')   \n",
        "print (word[-1:-len(word):-1])"
      ]
    },
    {
      "cell_type": "code",
      "execution_count": null,
      "metadata": {
        "id": "KmF01bq_0B-w",
        "outputId": "33a5eec1-462e-47f0-edf3-3497d7b59d6a"
      },
      "outputs": [
        {
          "data": {
            "text/plain": [
              "6"
            ]
          },
          "execution_count": 80,
          "metadata": {},
          "output_type": "execute_result"
        }
      ],
      "source": [
        "len(word)"
      ]
    },
    {
      "cell_type": "markdown",
      "metadata": {
        "id": "w48WATeh0B-w"
      },
      "source": [
        "<img src=\"https://upload.wikimedia.org/wikipedia/commons/thumb/7/75/Jigsaw.svg/330px-Jigsaw.svg.png\">"
      ]
    },
    {
      "cell_type": "code",
      "execution_count": null,
      "metadata": {
        "id": "nyXtzr910B-x",
        "outputId": "8bc1b191-1a46-401f-c1c7-f4c31c3bf05c"
      },
      "outputs": [
        {
          "name": "stdout",
          "output_type": "stream",
          "text": [
            "enter:l\n"
          ]
        }
      ],
      "source": [
        "c = input ('enter:')"
      ]
    },
    {
      "cell_type": "code",
      "execution_count": null,
      "metadata": {
        "id": "UmxxFibi0B-x",
        "outputId": "758b76c0-c405-4146-88d0-a7d5b6759692"
      },
      "outputs": [
        {
          "data": {
            "text/plain": [
              "'Ali Saee'"
            ]
          },
          "execution_count": 91,
          "metadata": {},
          "output_type": "execute_result"
        }
      ],
      "source": [
        "c"
      ]
    },
    {
      "cell_type": "code",
      "execution_count": null,
      "metadata": {
        "id": "yjIe00CB0B-x",
        "outputId": "2f705041-9d82-41d1-882c-393824a06ef3"
      },
      "outputs": [
        {
          "data": {
            "text/plain": [
              "'eeaS ilA'"
            ]
          },
          "execution_count": 92,
          "metadata": {},
          "output_type": "execute_result"
        }
      ],
      "source": [
        "c[::-1]"
      ]
    },
    {
      "cell_type": "code",
      "execution_count": null,
      "metadata": {
        "id": "F2xvTy1h0B-y",
        "outputId": "9cd86519-71de-4856-9133-909bce8712fa"
      },
      "outputs": [
        {
          "name": "stdout",
          "output_type": "stream",
          "text": [
            "enter a word:Python\n"
          ]
        }
      ],
      "source": [
        "word = input ('enter a word:')   "
      ]
    },
    {
      "cell_type": "markdown",
      "metadata": {
        "id": "ecyqnPjS0B-y"
      },
      "source": [
        "Python"
      ]
    },
    {
      "cell_type": "code",
      "execution_count": null,
      "metadata": {
        "id": "YxXT8igk0B-y",
        "outputId": "a7e25c32-5557-41a1-9bf9-f98ca9559544"
      },
      "outputs": [
        {
          "data": {
            "text/plain": [
              "'P'"
            ]
          },
          "execution_count": 103,
          "metadata": {},
          "output_type": "execute_result"
        }
      ],
      "source": [
        "word[0]"
      ]
    },
    {
      "cell_type": "code",
      "execution_count": null,
      "metadata": {
        "id": "j3zaKlVX0B-z",
        "outputId": "ad84b0dc-1b15-4c25-fa55-9d4a0d894203"
      },
      "outputs": [
        {
          "name": "stdout",
          "output_type": "stream",
          "text": [
            "nohtyP\n"
          ]
        }
      ],
      "source": [
        "reversed_word = word[::-1]\n",
        "print(reversed_word)"
      ]
    },
    {
      "cell_type": "markdown",
      "metadata": {
        "id": "8MrNA5EP0B-z"
      },
      "source": [
        "## 5.5. Dictionaries\n"
      ]
    },
    {
      "cell_type": "code",
      "execution_count": null,
      "metadata": {
        "id": "AL7h4gAR0B-z",
        "outputId": "29256228-06ab-4991-afda-fc20cedeb2db"
      },
      "outputs": [
        {
          "name": "stdout",
          "output_type": "stream",
          "text": [
            "{'name': 'Ali', 'age': 60} , <class 'dict'>\n",
            "Ali\n",
            "True\n"
          ]
        }
      ],
      "source": [
        "# === Dictionaries ===\n",
        "v_1 = {'name': 'Ali', 'age': 60}\n",
        "print(v_1, ',',type(v_1))\n",
        "\n",
        "# indexing dicts\n",
        "print(v_1['name'])\n",
        "print(v_1['age'] == 60)"
      ]
    },
    {
      "cell_type": "markdown",
      "metadata": {
        "id": "RJWl_7S80B-0"
      },
      "source": [
        "## 5.6. Booleans\n"
      ]
    },
    {
      "cell_type": "code",
      "execution_count": null,
      "metadata": {
        "id": "RxzIjazq0B-0",
        "outputId": "8120fe72-e42a-4178-c690-da498e82b137"
      },
      "outputs": [
        {
          "name": "stdout",
          "output_type": "stream",
          "text": [
            "False , <class 'bool'>\n",
            "True\n",
            "False\n",
            "True\n",
            "False\n"
          ]
        },
        {
          "name": "stderr",
          "output_type": "stream",
          "text": [
            "<>:2: SyntaxWarning: \"is\" with a literal. Did you mean \"==\"?\n",
            "<>:2: SyntaxWarning: \"is\" with a literal. Did you mean \"==\"?\n",
            "<ipython-input-96-959ab1cd9514>:2: SyntaxWarning: \"is\" with a literal. Did you mean \"==\"?\n",
            "  v_1 = 1 is 2\n"
          ]
        }
      ],
      "source": [
        "# booleans\n",
        "v_1 = 1 is 2\n",
        "print(v_1, ',',type(v_1))\n",
        "\n",
        "# every var-type has a boolean representation\n",
        "print(bool(1))\n",
        "print(bool(0))\n",
        "print(bool([1,2,3]))\n",
        "print(bool({}))"
      ]
    },
    {
      "cell_type": "markdown",
      "metadata": {
        "id": "rQvkJ23_0B-0"
      },
      "source": [
        "##  5.7.OPERATORS\n",
        "\n",
        "- math operators are: `+, -, *, /, **, //, %` and all plus a `=`"
      ]
    },
    {
      "cell_type": "code",
      "execution_count": null,
      "metadata": {
        "id": "870YH-Z60B-0",
        "outputId": "853bb9f9-a12f-4ace-cd2d-5db30df57ab2"
      },
      "outputs": [
        {
          "data": {
            "text/plain": [
              "tuple"
            ]
          },
          "execution_count": 107,
          "metadata": {},
          "output_type": "execute_result"
        }
      ],
      "source": [
        "type(list_1[3][2])"
      ]
    },
    {
      "cell_type": "code",
      "execution_count": null,
      "metadata": {
        "id": "DJyEmNZf0B-1",
        "outputId": "96efc048-c3b6-4751-cc1b-c1376573c0bb"
      },
      "outputs": [
        {
          "name": "stdout",
          "output_type": "stream",
          "text": [
            "1:  13.75\n",
            "2:  aStringOperatoraStringOperatoraStringOperator\n",
            "3:  ['x', 2, 'd', [1, 2, ('x', 'y')], 'x', 2, 'd', [1, 2, ('x', 'y')]]\n",
            "4:  ['x', 2, 'd', [1, 2, ('x', 'y')], 'x', 2, 'd', [1, 2, ('x', 'y')]]\n",
            "5-1:  1.5\n",
            "5-2:  1\n",
            "5-3:  1\n",
            "6:  13.75\n",
            "7:  False\n",
            "7:  True\n"
          ]
        }
      ],
      "source": [
        "int_1 = 3\n",
        "float_1 = 10.75\n",
        "str_1 = 'aStringOperator'\n",
        "list_1 = ['x', 2, 'd', [1, 2, ('x', 'y')]]\n",
        "dict_1 = {'a': [1,2,3], 'b': {'x':0}}\n",
        "bool_1 = True\n",
        "\n",
        "print('1: ', int_1 + float_1)\n",
        "print('2: ', str_1 * int_1)\n",
        "print('3: ', list_1 + list_1)\n",
        "print('4: ', list_1*2)\n",
        "print('5-1: ', int_1/2)\n",
        "print('5-2: ', int_1//2)\n",
        "print('5-3: ', int_1%2)\n",
        "\n",
        "int_1 += float_1# int_1=int_1 + folat_1\n",
        "print('6: ', int_1)\n",
        "\n",
        "bool_1 &= False\n",
        "print('7: ', bool_1)\n",
        "\n",
        "bool_1 |= True\n",
        "print('7: ', bool_1)"
      ]
    },
    {
      "cell_type": "markdown",
      "metadata": {
        "id": "AMl3p4yK0B-2"
      },
      "source": [
        "- logical operators are: `==, !=, in, is, not, is not, <, >, <=, >=, and, or` "
      ]
    },
    {
      "cell_type": "code",
      "execution_count": null,
      "metadata": {
        "id": "a_IHyVdq0B-2"
      },
      "outputs": [],
      "source": [
        "print('1: ', 1 == True)\n",
        "print('2: ', 1 is True)\n",
        "print('3: ', ['x'] in ['y', 'x', ['x']])\n",
        "print('4: ', True or False is not False)"
      ]
    },
    {
      "cell_type": "code",
      "execution_count": null,
      "metadata": {
        "id": "jF_WAUBN0B-3",
        "outputId": "6077737c-9a24-420a-bcb3-12cc19f2cb1b"
      },
      "outputs": [
        {
          "data": {
            "text/plain": [
              "True"
            ]
          },
          "execution_count": 113,
          "metadata": {},
          "output_type": "execute_result"
        }
      ],
      "source": [
        "True or False is not False"
      ]
    },
    {
      "cell_type": "markdown",
      "metadata": {
        "id": "if7z-26l0B-3"
      },
      "source": [
        "---\n",
        "---\n",
        "\n",
        "## 5.8. Loops & Conditionals\n",
        "\n",
        "### Loops\n",
        "\n",
        "We can go forward until we're told to stop, or we can go for `n` specific steps:"
      ]
    },
    {
      "cell_type": "code",
      "execution_count": null,
      "metadata": {
        "id": "t-LY0A0M0B-3"
      },
      "outputs": [],
      "source": [
        "x = 'Soheil Tehranipour'\n",
        "age = 32"
      ]
    },
    {
      "cell_type": "code",
      "execution_count": null,
      "metadata": {
        "scrolled": false,
        "id": "USk9dm-u0B-4",
        "outputId": "291d02a3-3f9e-4b84-b161-ee587133f458"
      },
      "outputs": [
        {
          "name": "stdout",
          "output_type": "stream",
          "text": [
            "My name is :Soheil Tehranipour and I am :32\n"
          ]
        }
      ],
      "source": [
        "print('My name is :{}'.format(x),\"and I am :{}\".format(age))"
      ]
    },
    {
      "cell_type": "code",
      "execution_count": null,
      "metadata": {
        "id": "YPmGXFf90B-4",
        "outputId": "a799e7a0-9a09-4c94-d1ee-f7c462d07aa7"
      },
      "outputs": [
        {
          "name": "stdout",
          "output_type": "stream",
          "text": [
            "My name is : Soheil Tehranipour\n"
          ]
        }
      ],
      "source": [
        "print('My name is :',x)"
      ]
    },
    {
      "cell_type": "code",
      "execution_count": null,
      "metadata": {
        "id": "KJRgln_S0B-4",
        "outputId": "57694e08-dff5-475b-a452-ff15c9e08d8f"
      },
      "outputs": [
        {
          "name": "stdout",
          "output_type": "stream",
          "text": [
            "i is 0\n",
            "i is 1\n",
            "i is 2\n",
            "i is 3\n"
          ]
        }
      ],
      "source": [
        "i = 0\n",
        "while i < 4:\n",
        "    print('i is {}'.format(i))\n",
        "    i += 1"
      ]
    },
    {
      "cell_type": "code",
      "execution_count": null,
      "metadata": {
        "id": "MB_w92NU0B-5",
        "outputId": "0d7e6933-5e8e-4e28-fb59-4eaf9f8f1d1c"
      },
      "outputs": [
        {
          "name": "stdout",
          "output_type": "stream",
          "text": [
            "soheil\n",
            "soheil\n",
            "soheil\n",
            "soheil\n",
            "soheil\n",
            "j is 4\n"
          ]
        }
      ],
      "source": [
        "# Go for n steps\n",
        "for j in range(5):\n",
        "    print(\"soheil\")\n",
        "print('j is {}'.format(j))"
      ]
    },
    {
      "cell_type": "markdown",
      "metadata": {
        "id": "eeOnfCii0B-5"
      },
      "source": [
        "### A tricky python code\n",
        "\n",
        "`Comprehensions` can be used as a compact form of `if` statement, when `if` is used to create a `list` or `tuple` or `dictionary` from an iterable"
      ]
    },
    {
      "cell_type": "code",
      "execution_count": null,
      "metadata": {
        "id": "PswRNJ3a0B-5"
      },
      "outputs": [],
      "source": [
        "list_1 = []\n",
        "for i in range(4):\n",
        "    list_1.append(i**2)"
      ]
    },
    {
      "cell_type": "code",
      "execution_count": null,
      "metadata": {
        "id": "q6Kyjxpk0B-6",
        "outputId": "11a3a39d-6ef2-4be3-8693-fd9e6f31bd1a"
      },
      "outputs": [
        {
          "data": {
            "text/plain": [
              "[0, 1, 4, 9]"
            ]
          },
          "execution_count": 128,
          "metadata": {},
          "output_type": "execute_result"
        }
      ],
      "source": [
        "list_1"
      ]
    },
    {
      "cell_type": "code",
      "execution_count": null,
      "metadata": {
        "id": "zQpOPWPK0B-6"
      },
      "outputs": [],
      "source": [
        "list_2 = [i**2 for i in range(4)]\n"
      ]
    },
    {
      "cell_type": "code",
      "execution_count": null,
      "metadata": {
        "id": "cfLbSUkE0B-6",
        "outputId": "97671da6-5252-4b20-c343-e1e95b4c1294"
      },
      "outputs": [
        {
          "data": {
            "text/plain": [
              "[0, 1, 4, 9]"
            ]
          },
          "execution_count": 130,
          "metadata": {},
          "output_type": "execute_result"
        }
      ],
      "source": [
        "list_2"
      ]
    },
    {
      "cell_type": "code",
      "execution_count": null,
      "metadata": {
        "scrolled": true,
        "id": "IvU0kZek0B-6",
        "outputId": "3d71647c-8baa-4550-e417-68f5b4526c9a"
      },
      "outputs": [
        {
          "name": "stdout",
          "output_type": "stream",
          "text": [
            "True\n",
            "[0, 1, 4, 9]\n",
            "{'0': 0, '1': 1, '2': 2, '3': 3, '4': 4}\n"
          ]
        }
      ],
      "source": [
        "list_1 = []\n",
        "for i in range(4):\n",
        "    list_1.append(i**2)\n",
        "\n",
        "list_2 = [i**2 for i in range(4)]\n",
        "\n",
        "print(list_1 == list_2)\n",
        "print(list_1)\n",
        "\n",
        "dict_1 = {str(i):i for i in range(5)}\n",
        "print(dict_1)"
      ]
    },
    {
      "cell_type": "code",
      "execution_count": null,
      "metadata": {
        "id": "dJc4Fklc0B-7"
      },
      "outputs": [],
      "source": [
        "list_2"
      ]
    },
    {
      "cell_type": "markdown",
      "metadata": {
        "id": "5j67CWPd0B-7"
      },
      "source": [
        "### Conditionals\n",
        "\n",
        "There is only `if,elif,else` in python, there is no `switch, case` statement."
      ]
    },
    {
      "cell_type": "code",
      "execution_count": null,
      "metadata": {
        "id": "KSYSnl3I0B-7",
        "outputId": "348500ae-c00c-434f-d1ed-67f0f9669c88"
      },
      "outputs": [
        {
          "name": "stdout",
          "output_type": "stream",
          "text": [
            "enter a number: 14\n",
            "the number 14 is even\n"
          ]
        }
      ],
      "source": [
        "number = int(input('enter a number: '))\n",
        "if number % 3 == 0:\n",
        "    print('the number {} is divisible by 3'.format(number))\n",
        "elif number % 2 == 0:\n",
        "    print('the number {} is even'.format(number))\n",
        "else:\n",
        "    print('the number {} is divisible by neither 2 nor 3'.format(number))"
      ]
    },
    {
      "cell_type": "markdown",
      "metadata": {
        "id": "nBr6Jozh0B-8"
      },
      "source": [
        "# 6. Fucntion, Class and `pip`\n",
        "\n",
        "Modular Programming means:\n",
        "\n",
        "- Several smaller problems vs. A big problem\n",
        "- Nested vs. Flat\n",
        "- Flexibility, gradual code development\n",
        "\n",
        "Let's start from the beginning:\n",
        "\n",
        "\n",
        "## 6.1.Functions\n",
        "\n",
        "Functions are the heart of the modular programming. Each function has multiple inputs, and a single output:"
      ]
    },
    {
      "cell_type": "code",
      "execution_count": null,
      "metadata": {
        "id": "byKkKZ1k0B-8"
      },
      "outputs": [],
      "source": [
        "def word_reverse(k):\n",
        "    word = k.lower()\n",
        "    print(word)\n",
        "    return word[::-1]\n",
        "\n"
      ]
    },
    {
      "cell_type": "code",
      "execution_count": null,
      "metadata": {
        "id": "wLCYh1lo0B-8",
        "outputId": "c6b97ed9-d400-4ab2-cd2c-dc5c2d16bc75"
      },
      "outputs": [
        {
          "name": "stdout",
          "output_type": "stream",
          "text": [
            "sample\n"
          ]
        },
        {
          "data": {
            "text/plain": [
              "'elpmas'"
            ]
          },
          "execution_count": 4,
          "metadata": {},
          "output_type": "execute_result"
        }
      ],
      "source": [
        "word_reverse('SamPLe')"
      ]
    },
    {
      "cell_type": "code",
      "execution_count": null,
      "metadata": {
        "id": "x4_20Di10B-8"
      },
      "outputs": [],
      "source": [
        "# define a function to get user input and turn into int\n",
        "def get_input(msg):\n",
        "    number = float(input(msg))\n",
        "    return number\n",
        "\n",
        "# to calculate x**2 + 1\n",
        "def math_func(x):\n",
        "    return x**2 + 1\n",
        "\n",
        "\n"
      ]
    },
    {
      "cell_type": "code",
      "execution_count": null,
      "metadata": {
        "id": "fRI4WOVH0B-9",
        "outputId": "c954adbe-a3d5-4757-87a1-b18f8a2df7ce"
      },
      "outputs": [
        {
          "name": "stdout",
          "output_type": "stream",
          "text": [
            "لطفا عدد وارد کنید4\n"
          ]
        }
      ],
      "source": [
        "# write a script that gets user input and calc math_func\n",
        "number = get_input('لطفا عدد وارد کنید')\n"
      ]
    },
    {
      "cell_type": "code",
      "execution_count": null,
      "metadata": {
        "id": "KKUVuYPA0B-9",
        "outputId": "0f882344-018c-474a-d80a-68ab2799dc7d"
      },
      "outputs": [
        {
          "name": "stdout",
          "output_type": "stream",
          "text": [
            "17.0\n"
          ]
        }
      ],
      "source": [
        "print(math_func(number))"
      ]
    },
    {
      "cell_type": "markdown",
      "metadata": {
        "id": "Kbz9ZAR70B-9"
      },
      "source": [
        "### Python functions are amazing!\n",
        "\n",
        "Let's see two interesting characterstics of functions:"
      ]
    },
    {
      "cell_type": "code",
      "execution_count": null,
      "metadata": {
        "id": "Ir5wORI-0B--",
        "outputId": "cd9ca0fb-418f-4a6e-9e02-7f0e7267de07"
      },
      "outputs": [
        {
          "name": "stdout",
          "output_type": "stream",
          "text": [
            "9\n"
          ]
        }
      ],
      "source": [
        "# take functions as arguments\n",
        "def sum_(x,y):\n",
        "    return x+y\n",
        "\n",
        "def printer(operator, x, y):\n",
        "    return operator(x, y)\n",
        "\n",
        "print(printer(sum_, 3, 6))"
      ]
    },
    {
      "cell_type": "code",
      "execution_count": null,
      "metadata": {
        "id": "Y01nUYK20B--",
        "outputId": "8fd2d137-eaac-4bba-ecc4-3efe8009a44a"
      },
      "outputs": [
        {
          "name": "stdout",
          "output_type": "stream",
          "text": [
            "=== Fibo ===\n",
            "1\n",
            "1\n",
            "2\n",
            "3\n",
            "5\n",
            "8\n",
            "13\n",
            "21\n",
            "34\n",
            "55\n",
            "89\n",
            "144\n",
            "233\n",
            "377\n",
            "610\n",
            "987\n",
            "1597\n",
            "2584\n",
            "4181\n"
          ]
        }
      ],
      "source": [
        "# functions could be called recursively\n",
        "def fibo(x):\n",
        "    if x <= 1:\n",
        "        return x\n",
        "    else:\n",
        "        return fibo(x-1) + fibo(x-2)\n",
        "\n",
        "# print first n fibo numbers\n",
        "print('=== Fibo ===')\n",
        "for i in range(1,20):\n",
        "    print(fibo(i))"
      ]
    },
    {
      "cell_type": "code",
      "execution_count": null,
      "metadata": {
        "id": "rxpnIHvC0B--"
      },
      "outputs": [],
      "source": []
    }
  ],
  "metadata": {
    "kernelspec": {
      "display_name": "Python 3",
      "language": "python",
      "name": "python3"
    },
    "language_info": {
      "codemirror_mode": {
        "name": "ipython",
        "version": 3
      },
      "file_extension": ".py",
      "mimetype": "text/x-python",
      "name": "python",
      "nbconvert_exporter": "python",
      "pygments_lexer": "ipython3",
      "version": "3.8.8"
    },
    "colab": {
      "name": "Day 000- Intro.ipynb",
      "provenance": []
    }
  },
  "nbformat": 4,
  "nbformat_minor": 0
}