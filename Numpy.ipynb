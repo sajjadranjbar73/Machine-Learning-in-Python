{
  "cells": [
    {
      "cell_type": "markdown",
      "metadata": {
        "id": "gIkL1KvU2D-z"
      },
      "source": [
        "<div class=\"alert alert-block alert-success\">\n",
        "    <h1 align=\"center\">Machine Learning in Python</h1>\n",
        "    <h3 align=\"center\"> Numpy</h3>\n",
        "</div>"
      ]
    },
    {
      "cell_type": "markdown",
      "metadata": {
        "id": "6tBRU5Oo2D-0"
      },
      "source": [
        "# Installing NumPy\n",
        "\n",
        "To install NumPy, we strongly recommend using a scientific Python distribution. If you’re looking for the full instructions for installing NumPy on your operating system, you can find all of the details here.\n",
        "\n",
        "If you already have Python, you can install NumPy with:"
      ]
    },
    {
      "cell_type": "code",
      "execution_count": null,
      "metadata": {
        "id": "B387QZ0X2D-1"
      },
      "outputs": [],
      "source": [
        "!conda install numpy"
      ]
    },
    {
      "cell_type": "markdown",
      "metadata": {
        "id": "j27ApDSi2D-3"
      },
      "source": [
        "or"
      ]
    },
    {
      "cell_type": "code",
      "execution_count": null,
      "metadata": {
        "id": "7aj9Jekv2D-3"
      },
      "outputs": [],
      "source": [
        "!pip install numpy"
      ]
    },
    {
      "cell_type": "markdown",
      "metadata": {
        "id": "ogTjxQoi2D-4"
      },
      "source": [
        "# Numpy\n",
        "NumPy is a Python package which stands for ‘Numerical Python’. It is the core library for scientific computing, which contains a powerful n-dimensional array object, provide tools for integrating C, C++ etc. \n",
        "\n",
        "It is also useful in linear algebra, random number capability etc. NumPy array can also be used as an efficient multi-dimensional container for generic data. Now, let me tell you what exactly is a python numpy array.\n",
        "\n",
        "<img src = \"https://upload.wikimedia.org/wikipedia/commons/thumb/3/31/NumPy_logo_2020.svg/330px-NumPy_logo_2020.svg.png\">\n",
        "\n",
        "## NumPy Array\n",
        "Numpy array is a powerful N-dimensional array object which is in the form of rows and columns. We can initialize numpy arrays from nested Python lists and access it elements. In order to perform these numpy operations, the next question which will come in your mind is:"
      ]
    },
    {
      "cell_type": "markdown",
      "metadata": {
        "id": "9PMPWHFA2D-7"
      },
      "source": [
        "<img src = \"https://i.imgur.com/1t7STdM.gif\">\n"
      ]
    },
    {
      "cell_type": "markdown",
      "metadata": {
        "id": "mqkPfO7I2D-8"
      },
      "source": [
        "# How to import NumPy\n",
        "\n",
        "Any time you want to use a package or library in your code, you first need to make it accessible.\n",
        "\n",
        "In order to start using NumPy and all of the functions available in NumPy, you’ll need to import it. This can be easily done with this import statement:"
      ]
    },
    {
      "cell_type": "code",
      "execution_count": null,
      "metadata": {
        "id": "nFY-Khjw2D-9"
      },
      "outputs": [],
      "source": [
        "import numpy as np"
      ]
    },
    {
      "cell_type": "code",
      "execution_count": null,
      "metadata": {
        "id": "AvFgi5I92D--",
        "outputId": "968c1e21-ce4f-4d5c-b2aa-7260fc0b5fe5"
      },
      "outputs": [
        {
          "data": {
            "text/plain": [
              "'1.19.2'"
            ]
          },
          "execution_count": 2,
          "metadata": {},
          "output_type": "execute_result"
        }
      ],
      "source": [
        "np.__version__"
      ]
    },
    {
      "cell_type": "code",
      "execution_count": null,
      "metadata": {
        "id": "YQsw7k4j2D_A",
        "outputId": "3ae139e7-646f-43c6-83aa-3b3675a97ce9"
      },
      "outputs": [
        {
          "name": "stdout",
          "output_type": "stream",
          "text": [
            "1.19.2\n"
          ]
        }
      ],
      "source": [
        "print(np.__version__)"
      ]
    },
    {
      "cell_type": "markdown",
      "metadata": {
        "id": "UtCV8fCx2D_A"
      },
      "source": [
        "\n",
        "## What’s the difference between a Python list and a NumPy array?\n",
        "\n",
        "NumPy gives you an enormous range of fast and efficient ways of creating arrays and manipulating numerical data inside them. While a Python list can contain different data types within a single list, all of the elements in a NumPy array should be homogeneous. The mathematical operations that are meant to be performed on arrays would be extremely inefficient if the arrays weren’t homogeneous.\n",
        "\n",
        "## Why use NumPy?\n",
        "\n",
        "NumPy arrays are faster and more compact than Python lists. An array consumes less memory and is convenient to use. NumPy uses much less memory to store data and it provides a mechanism of specifying the data types. This allows the code to be optimized even further.\n"
      ]
    },
    {
      "cell_type": "markdown",
      "metadata": {
        "id": "ybVEdA4d2D_B"
      },
      "source": [
        "## Creating arrays in numpy"
      ]
    },
    {
      "cell_type": "markdown",
      "metadata": {
        "id": "5FgwpWFt2D_C"
      },
      "source": [
        "<img src = \"https://numpy.org/devdocs/_images/np_create_matrix.png\">\n"
      ]
    },
    {
      "cell_type": "code",
      "execution_count": null,
      "metadata": {
        "id": "UlmO3wqP2D_C",
        "outputId": "b60c20a6-84e0-4f99-c05e-5d27f0a102d1"
      },
      "outputs": [
        {
          "name": "stdout",
          "output_type": "stream",
          "text": [
            "[[1 2 3]\n",
            " [4 5 6]\n",
            " [7 8 9]]\n"
          ]
        }
      ],
      "source": [
        "a = np.array([[1, 2, 3], \n",
        "              [4, 5, 6], \n",
        "              [7, 8, 9]])\n",
        "print(a)"
      ]
    },
    {
      "cell_type": "code",
      "execution_count": null,
      "metadata": {
        "id": "jGGfJKwB2D_D",
        "outputId": "163970e5-2903-4c70-cf9f-0efc6ad2cb23"
      },
      "outputs": [
        {
          "data": {
            "text/plain": [
              "numpy.ndarray"
            ]
          },
          "execution_count": 5,
          "metadata": {},
          "output_type": "execute_result"
        }
      ],
      "source": [
        "type(a)"
      ]
    },
    {
      "cell_type": "markdown",
      "metadata": {
        "id": "HxxY7lMr2D_E"
      },
      "source": [
        "<img src = \"http://scipy-lectures.org/_images/numpy_indexing.png\" style=\"width: 50%\">"
      ]
    },
    {
      "cell_type": "code",
      "execution_count": null,
      "metadata": {
        "id": "U8ug0Dow2D_E",
        "outputId": "5ba47d41-460a-4e4b-a054-70b1e4387237"
      },
      "outputs": [
        {
          "data": {
            "text/plain": [
              "array([[1, 2, 3],\n",
              "       [4, 5, 6],\n",
              "       [7, 8, 9]])"
            ]
          },
          "execution_count": 17,
          "metadata": {},
          "output_type": "execute_result"
        }
      ],
      "source": [
        "a"
      ]
    },
    {
      "cell_type": "code",
      "execution_count": null,
      "metadata": {
        "id": "oz6yfbpp2D_F",
        "outputId": "5d3ed59e-239c-42af-96fa-fa00599f79b7"
      },
      "outputs": [
        {
          "name": "stdout",
          "output_type": "stream",
          "text": [
            "[['Lower' 'Lower' 'Lower']\n",
            " ['Lower' 'Lower' 'Higher']\n",
            " ['Higher' 'Higher' 'Higher']]\n"
          ]
        }
      ],
      "source": [
        "print(np.where(a > 5, \"Higher\", \"Lower\"))"
      ]
    },
    {
      "cell_type": "code",
      "execution_count": null,
      "metadata": {
        "id": "P6KGWW552D_F",
        "outputId": "b9483a0d-a990-4ed3-e1ab-c5585efd3727"
      },
      "outputs": [
        {
          "name": "stdout",
          "output_type": "stream",
          "text": [
            "<class 'numpy.ndarray'>\n"
          ]
        }
      ],
      "source": [
        "print(type(a))"
      ]
    },
    {
      "cell_type": "markdown",
      "metadata": {
        "id": "ABo8B3YV2D_G"
      },
      "source": [
        "<img src = \"https://numpy.org/devdocs/_images/np_indexing.png\" style=\"width: 100%\">"
      ]
    },
    {
      "cell_type": "code",
      "execution_count": null,
      "metadata": {
        "id": "qcunypj42D_G",
        "outputId": "eada5e86-78ef-4fe4-96c3-578b57120288"
      },
      "outputs": [
        {
          "data": {
            "text/plain": [
              "array([[1, 2, 3],\n",
              "       [4, 5, 6],\n",
              "       [7, 8, 9]])"
            ]
          },
          "execution_count": 20,
          "metadata": {},
          "output_type": "execute_result"
        }
      ],
      "source": [
        "a"
      ]
    },
    {
      "cell_type": "code",
      "execution_count": null,
      "metadata": {
        "id": "11JLJaZb2D_H",
        "outputId": "d56b4768-3d2b-4b79-9912-c9bcf89c9193"
      },
      "outputs": [
        {
          "data": {
            "text/plain": [
              "array([1, 2, 3])"
            ]
          },
          "execution_count": 21,
          "metadata": {},
          "output_type": "execute_result"
        }
      ],
      "source": [
        "a[0]"
      ]
    },
    {
      "cell_type": "code",
      "execution_count": null,
      "metadata": {
        "id": "rjrcO9Z12D_H",
        "outputId": "e02093d3-0679-4c32-a053-f0d7dcd8b20b"
      },
      "outputs": [
        {
          "data": {
            "text/plain": [
              "6"
            ]
          },
          "execution_count": 22,
          "metadata": {},
          "output_type": "execute_result"
        }
      ],
      "source": [
        "a[1,2]"
      ]
    },
    {
      "cell_type": "markdown",
      "metadata": {
        "id": "NXgeWk642D_I"
      },
      "source": [
        "## Shape and Reshape in numpy"
      ]
    },
    {
      "cell_type": "code",
      "execution_count": null,
      "metadata": {
        "id": "A664DybX2D_I",
        "outputId": "bcbed2f2-9d50-4b39-f208-6e895ac75e6e"
      },
      "outputs": [
        {
          "name": "stdout",
          "output_type": "stream",
          "text": [
            "(3, 3)\n"
          ]
        }
      ],
      "source": [
        "print(a.shape)"
      ]
    },
    {
      "cell_type": "code",
      "execution_count": null,
      "metadata": {
        "id": "gBCGWPAK2D_I",
        "outputId": "0f38c3bc-883f-4cdb-863a-20ced09172aa"
      },
      "outputs": [
        {
          "data": {
            "text/plain": [
              "tuple"
            ]
          },
          "execution_count": 24,
          "metadata": {},
          "output_type": "execute_result"
        }
      ],
      "source": [
        "type(a.shape)"
      ]
    },
    {
      "cell_type": "code",
      "execution_count": null,
      "metadata": {
        "id": "InXBUeSd2D_J",
        "outputId": "e090b89c-4856-41cf-be6e-a0f42e15e24f"
      },
      "outputs": [
        {
          "name": "stdout",
          "output_type": "stream",
          "text": [
            "3\n"
          ]
        }
      ],
      "source": [
        "print(a.shape[0])"
      ]
    },
    {
      "cell_type": "code",
      "execution_count": null,
      "metadata": {
        "id": "qdQY3w3d2D_J"
      },
      "outputs": [],
      "source": [
        "b = np.array([[1, 2, 3], [4, 5, 6]])  # 2D array (or matrix)"
      ]
    },
    {
      "cell_type": "code",
      "execution_count": null,
      "metadata": {
        "id": "M2sqDAWt2D_K",
        "outputId": "807307d0-5f50-4456-d17c-cc6d4a426c1a"
      },
      "outputs": [
        {
          "data": {
            "text/plain": [
              "array([[1, 2, 3],\n",
              "       [4, 5, 6]])"
            ]
          },
          "execution_count": 29,
          "metadata": {},
          "output_type": "execute_result"
        }
      ],
      "source": [
        "b"
      ]
    },
    {
      "cell_type": "code",
      "execution_count": null,
      "metadata": {
        "id": "kzdrSxPg2D_K",
        "outputId": "f96f1ced-6b73-4722-bcd6-fb3ab7133722"
      },
      "outputs": [
        {
          "data": {
            "text/plain": [
              "(2, 3)"
            ]
          },
          "execution_count": 30,
          "metadata": {},
          "output_type": "execute_result"
        }
      ],
      "source": [
        "b.shape"
      ]
    },
    {
      "cell_type": "code",
      "execution_count": null,
      "metadata": {
        "scrolled": true,
        "id": "zHPU3fxB2D_L",
        "outputId": "1103ffa3-ca9f-48c7-cb4d-66fe48ad4fb4"
      },
      "outputs": [
        {
          "data": {
            "text/plain": [
              "array([[1, 2, 3],\n",
              "       [4, 5, 6]])"
            ]
          },
          "execution_count": 31,
          "metadata": {},
          "output_type": "execute_result"
        }
      ],
      "source": [
        "b"
      ]
    },
    {
      "cell_type": "code",
      "execution_count": null,
      "metadata": {
        "id": "8wTKyXwT2D_L",
        "outputId": "be5dec71-c54c-4d06-fa07-d3b7ed18784f"
      },
      "outputs": [
        {
          "name": "stdout",
          "output_type": "stream",
          "text": [
            "[[1 2]\n",
            " [3 4]\n",
            " [5 6]]\n"
          ]
        }
      ],
      "source": [
        "print(np.reshape(b, (3, 2)))"
      ]
    },
    {
      "cell_type": "code",
      "execution_count": null,
      "metadata": {
        "id": "7cHxhJh02D_L"
      },
      "outputs": [],
      "source": [
        "c = np.array([7,2,9,10])"
      ]
    },
    {
      "cell_type": "code",
      "execution_count": null,
      "metadata": {
        "id": "oqRYXQCI2D_M",
        "outputId": "690c5103-ec02-40a3-e4de-743b91a26e73"
      },
      "outputs": [
        {
          "data": {
            "text/plain": [
              "(4,)"
            ]
          },
          "execution_count": 36,
          "metadata": {},
          "output_type": "execute_result"
        }
      ],
      "source": [
        "c.shape"
      ]
    },
    {
      "cell_type": "code",
      "execution_count": null,
      "metadata": {
        "id": "KI5GRtCm2D_M",
        "outputId": "488e9e96-f8b5-4aad-87b0-1bd92edda3e7"
      },
      "outputs": [
        {
          "data": {
            "text/plain": [
              "array([[1, 2, 3],\n",
              "       [4, 5, 6]])"
            ]
          },
          "execution_count": 37,
          "metadata": {},
          "output_type": "execute_result"
        }
      ],
      "source": [
        "b"
      ]
    },
    {
      "cell_type": "code",
      "execution_count": null,
      "metadata": {
        "id": "8uJ8lyQ32D_N",
        "outputId": "11f0e6f9-8585-4e6d-ff0b-e3b58139b30c"
      },
      "outputs": [
        {
          "data": {
            "text/plain": [
              "3"
            ]
          },
          "execution_count": 41,
          "metadata": {},
          "output_type": "execute_result"
        }
      ],
      "source": [
        "b.shape[1]"
      ]
    },
    {
      "cell_type": "code",
      "execution_count": null,
      "metadata": {
        "id": "ZC0OdmLt2D_N",
        "outputId": "9309431b-2a9d-4456-e3f1-535f09c61743"
      },
      "outputs": [
        {
          "data": {
            "text/plain": [
              "array([[1],\n",
              "       [2],\n",
              "       [3],\n",
              "       [4],\n",
              "       [5],\n",
              "       [6]])"
            ]
          },
          "execution_count": 45,
          "metadata": {},
          "output_type": "execute_result"
        }
      ],
      "source": [
        "b.reshape((-1,1))"
      ]
    },
    {
      "cell_type": "markdown",
      "metadata": {
        "id": "OfSK-KtF2D_N"
      },
      "source": [
        "<img src=\"https://fgnt.github.io/python_crashkurs_doc/_images/numpy_array_t.png\" width=\"50%\"/>\n",
        "\n"
      ]
    },
    {
      "cell_type": "markdown",
      "metadata": {
        "id": "-bve_9An2D_O"
      },
      "source": [
        "## Reshaping and flattening multidimensional arrays"
      ]
    },
    {
      "cell_type": "code",
      "execution_count": null,
      "metadata": {
        "id": "WUYnbCi72D_O"
      },
      "outputs": [],
      "source": [
        "print(np.reshape(b, (1, -1)))  # -1 means the number of columns will be determined automatically"
      ]
    },
    {
      "cell_type": "code",
      "execution_count": null,
      "metadata": {
        "id": "ZVUZ4RV62D_O"
      },
      "outputs": [],
      "source": [
        "print(np.reshape(b, (-1, 1)))   # -1 means the number of rows will be determined automatically"
      ]
    },
    {
      "cell_type": "markdown",
      "metadata": {
        "id": "lbk0UCXJ2D_O"
      },
      "source": [
        "There are two popular ways to flatten an array: .flatten() and .ravel(). The primary difference between the two is that the new array created using ravel() is actually a reference to the parent array (i.e., a “view”). This means that any changes to the new array will affect the parent array as well. Since ravel does not create a copy, it’s memory efficient."
      ]
    },
    {
      "cell_type": "markdown",
      "metadata": {
        "id": "ih6DQgvD2D_P"
      },
      "source": [
        "## Arrays in numpy"
      ]
    },
    {
      "cell_type": "code",
      "execution_count": null,
      "metadata": {
        "id": "8tj-hCmQ2D_P",
        "outputId": "f12def1b-b76f-41c9-f3b5-697905882e04"
      },
      "outputs": [
        {
          "data": {
            "text/plain": [
              "array([[1, 2, 3],\n",
              "       [4, 5, 6],\n",
              "       [7, 8, 9]])"
            ]
          },
          "execution_count": 46,
          "metadata": {},
          "output_type": "execute_result"
        }
      ],
      "source": [
        "a"
      ]
    },
    {
      "cell_type": "code",
      "execution_count": null,
      "metadata": {
        "id": "oyaCHqZi2D_P",
        "outputId": "3b1c11a1-5429-4f10-869b-92055a7ac7f3"
      },
      "outputs": [
        {
          "name": "stdout",
          "output_type": "stream",
          "text": [
            "2\n"
          ]
        }
      ],
      "source": [
        "print(a.ndim)"
      ]
    },
    {
      "cell_type": "code",
      "execution_count": null,
      "metadata": {
        "id": "gniJnkdM2D_Q",
        "outputId": "316274e6-f5f5-4e4e-b025-91015d451e26"
      },
      "outputs": [
        {
          "name": "stdout",
          "output_type": "stream",
          "text": [
            "int32\n"
          ]
        }
      ],
      "source": [
        "print(a.dtype)"
      ]
    },
    {
      "cell_type": "code",
      "execution_count": null,
      "metadata": {
        "id": "3RbWSjA12D_Q"
      },
      "outputs": [],
      "source": [
        "c = np.array([[1, 2, 3], [4, 5, 6]], dtype=np.int8)"
      ]
    },
    {
      "cell_type": "code",
      "execution_count": null,
      "metadata": {
        "id": "91enk6R92D_Q",
        "outputId": "c7e84400-0744-4c92-8af7-c1c050e9d1ed"
      },
      "outputs": [
        {
          "data": {
            "text/plain": [
              "array([[1, 2, 3],\n",
              "       [4, 5, 6]], dtype=int8)"
            ]
          },
          "execution_count": 56,
          "metadata": {},
          "output_type": "execute_result"
        }
      ],
      "source": [
        "c"
      ]
    },
    {
      "cell_type": "code",
      "execution_count": null,
      "metadata": {
        "id": "IjgzCaP12D_Q",
        "outputId": "4230632a-a7d9-4209-d23f-e95f87ec726b"
      },
      "outputs": [
        {
          "name": "stdout",
          "output_type": "stream",
          "text": [
            "int8\n"
          ]
        }
      ],
      "source": [
        "print(c.dtype)"
      ]
    },
    {
      "cell_type": "code",
      "execution_count": null,
      "metadata": {
        "id": "LQ2FRoUI2D_R",
        "outputId": "a0dae29e-34c9-48a8-d698-5be000a398be"
      },
      "outputs": [
        {
          "data": {
            "text/plain": [
              "array([[1, 2, 3],\n",
              "       [4, 5, 6]], dtype=int8)"
            ]
          },
          "execution_count": 58,
          "metadata": {},
          "output_type": "execute_result"
        }
      ],
      "source": [
        "c"
      ]
    },
    {
      "cell_type": "code",
      "execution_count": null,
      "metadata": {
        "id": "Om3RfCo72D_R",
        "outputId": "bdcd28db-225e-49ed-e0af-6de4131632c9"
      },
      "outputs": [
        {
          "name": "stdout",
          "output_type": "stream",
          "text": [
            "9\n"
          ]
        }
      ],
      "source": [
        "print(a.size)  # number of elements"
      ]
    },
    {
      "cell_type": "code",
      "execution_count": null,
      "metadata": {
        "id": "AJC3Px8g2D_R",
        "outputId": "f2acdcb2-bb4c-4066-9280-ce6d0823cd00"
      },
      "outputs": [
        {
          "data": {
            "text/plain": [
              "4"
            ]
          },
          "execution_count": 60,
          "metadata": {},
          "output_type": "execute_result"
        }
      ],
      "source": [
        "a.itemsize"
      ]
    },
    {
      "cell_type": "code",
      "execution_count": null,
      "metadata": {
        "id": "sNpipqU02D_S",
        "outputId": "b79aa0a0-b7cd-4eae-90b4-71310b44155c"
      },
      "outputs": [
        {
          "name": "stdout",
          "output_type": "stream",
          "text": [
            "1\n"
          ]
        }
      ],
      "source": [
        "print(c.itemsize)  # size of each element (in bytes)"
      ]
    },
    {
      "cell_type": "markdown",
      "metadata": {
        "id": "2LrUMvRc2D_S"
      },
      "source": [
        "## arange in numpy"
      ]
    },
    {
      "cell_type": "code",
      "execution_count": null,
      "metadata": {
        "id": "vR2CTSvu2D_S",
        "outputId": "419b7ccb-cdd1-4314-c4e7-d6580d7b4ce4"
      },
      "outputs": [
        {
          "name": "stdout",
          "output_type": "stream",
          "text": [
            "[ 1  4  7 10 13 16 19]\n"
          ]
        }
      ],
      "source": [
        "d1 = np.arange(1, 20, step=3)\n",
        "print(d1)"
      ]
    },
    {
      "cell_type": "code",
      "execution_count": null,
      "metadata": {
        "id": "Rk8maVUn2D_S"
      },
      "outputs": [],
      "source": [
        "d1 = np.arange(1, 20, 3)\n",
        "print(d1)"
      ]
    },
    {
      "cell_type": "code",
      "execution_count": null,
      "metadata": {
        "id": "M6T2cOne2D_T",
        "outputId": "fc0cebe8-9009-4f71-e5df-f180c9ec4eeb"
      },
      "outputs": [
        {
          "data": {
            "text/plain": [
              "<function numpy.arange>"
            ]
          },
          "execution_count": 63,
          "metadata": {},
          "output_type": "execute_result"
        }
      ],
      "source": [
        "np.arange"
      ]
    },
    {
      "cell_type": "markdown",
      "metadata": {
        "id": "UUVsuHqv2D_T"
      },
      "source": [
        "## linspace in numpy"
      ]
    },
    {
      "cell_type": "code",
      "execution_count": null,
      "metadata": {
        "id": "7x6MJuxm2D_T",
        "outputId": "a41b24aa-eba7-44a0-cc54-b4fd6baa71b1"
      },
      "outputs": [
        {
          "name": "stdout",
          "output_type": "stream",
          "text": [
            "[1.   1.25 1.5  1.75 2.  ]\n"
          ]
        }
      ],
      "source": [
        "d2 = np.linspace(1, 2, 5)\n",
        "print(d2)"
      ]
    },
    {
      "cell_type": "code",
      "execution_count": null,
      "metadata": {
        "id": "fJP7ne7j2D_U"
      },
      "outputs": [],
      "source": [
        "d3 = np.linspace(1, 2, num=11)\n",
        "print(d3)"
      ]
    },
    {
      "cell_type": "markdown",
      "metadata": {
        "id": "gEcRa9bs2D_U"
      },
      "source": [
        "### Creating specific arrays\n",
        "- `np.ones`\n",
        "- `np.zeros`\n",
        "- `np.full`\n",
        "- `np.eye`"
      ]
    },
    {
      "cell_type": "markdown",
      "metadata": {
        "id": "8xL045SU2D_U"
      },
      "source": [
        "<img src=\"https://numpy.org/devdocs/_images/np_array_dataones.png\" /> "
      ]
    },
    {
      "cell_type": "code",
      "execution_count": null,
      "metadata": {
        "id": "2zI7RG4y2D_V",
        "outputId": "1c6558d0-2cb4-4ca8-e06c-ccf4a0c96eca"
      },
      "outputs": [
        {
          "name": "stdout",
          "output_type": "stream",
          "text": [
            "[[1. 1.]\n",
            " [1. 1.]\n",
            " [1. 1.]]\n"
          ]
        }
      ],
      "source": [
        "print(np.ones(shape=(3, 2)))"
      ]
    },
    {
      "cell_type": "code",
      "execution_count": null,
      "metadata": {
        "id": "LOsq3O7m2D_V",
        "outputId": "d37e8948-5400-44c7-acb7-3e114c81a6d7"
      },
      "outputs": [
        {
          "name": "stdout",
          "output_type": "stream",
          "text": [
            "[[0. 0. 0.]\n",
            " [0. 0. 0.]]\n"
          ]
        }
      ],
      "source": [
        "print(np.zeros(shape=(2, 3)))"
      ]
    },
    {
      "cell_type": "code",
      "execution_count": null,
      "metadata": {
        "scrolled": true,
        "id": "pD7f4-9p2D_V",
        "outputId": "bac51a27-4208-43d5-a421-652ea00287fc"
      },
      "outputs": [
        {
          "name": "stdout",
          "output_type": "stream",
          "text": [
            "[[0. 0. 0.]\n",
            " [0. 0. 0.]]\n"
          ]
        }
      ],
      "source": [
        "print(np.zeros((2, 3)))"
      ]
    },
    {
      "cell_type": "code",
      "execution_count": null,
      "metadata": {
        "id": "WyZ_-n-B2D_W",
        "outputId": "49725018-c67b-4006-9de7-fbf36ad34af8"
      },
      "outputs": [
        {
          "name": "stdout",
          "output_type": "stream",
          "text": [
            "[[0. 0. 0.]\n",
            " [0. 0. 0.]]\n"
          ]
        }
      ],
      "source": [
        "print(np.zeros(shape=(2, 3), dtype=np.float64))"
      ]
    },
    {
      "cell_type": "code",
      "execution_count": null,
      "metadata": {
        "id": "P13bc_yC2D_W",
        "outputId": "2dedfb6b-923a-4c91-89d3-c5cb4a603504"
      },
      "outputs": [
        {
          "name": "stdout",
          "output_type": "stream",
          "text": [
            "[[5. 5.]\n",
            " [5. 5.]\n",
            " [5. 5.]]\n"
          ]
        }
      ],
      "source": [
        "print(5. * np.ones(shape=(3, 2)))"
      ]
    },
    {
      "cell_type": "code",
      "execution_count": null,
      "metadata": {
        "id": "qu0hh7iY2D_W",
        "outputId": "027b877d-eb8c-44b7-b91c-7b59c13db891"
      },
      "outputs": [
        {
          "name": "stdout",
          "output_type": "stream",
          "text": [
            "[['Soheil' 'Soheil']\n",
            " ['Soheil' 'Soheil']\n",
            " ['Soheil' 'Soheil']]\n"
          ]
        }
      ],
      "source": [
        "print(np.full((3, 2), 'Soheil'))"
      ]
    },
    {
      "cell_type": "code",
      "execution_count": null,
      "metadata": {
        "id": "DqimpOqy2D_X",
        "outputId": "0388eda6-b9f6-42e2-eabc-7260acd0ec23"
      },
      "outputs": [
        {
          "name": "stdout",
          "output_type": "stream",
          "text": [
            "[[1. 0. 0. 0.]\n",
            " [0. 1. 0. 0.]\n",
            " [0. 0. 1. 0.]\n",
            " [0. 0. 0. 1.]]\n"
          ]
        }
      ],
      "source": [
        "print(np.eye(4))"
      ]
    },
    {
      "cell_type": "code",
      "execution_count": null,
      "metadata": {
        "id": "tm0svGm92D_e",
        "outputId": "d4c95c05-edca-42cf-f3b1-cbcb76416129"
      },
      "outputs": [
        {
          "name": "stdout",
          "output_type": "stream",
          "text": [
            "[[0. 0. 0. 1.]\n",
            " [0. 0. 1. 0.]\n",
            " [0. 1. 0. 0.]\n",
            " [1. 0. 0. 0.]]\n"
          ]
        }
      ],
      "source": [
        "print(np.fliplr(np.eye(4)))"
      ]
    },
    {
      "cell_type": "code",
      "execution_count": null,
      "metadata": {
        "id": "rpfJ0tP12D_e",
        "outputId": "2f5f8f1c-3df8-4fb4-91f7-f666ebfcad6b"
      },
      "outputs": [
        {
          "name": "stdout",
          "output_type": "stream",
          "text": [
            "[[0.41671942 0.79247213]\n",
            " [0.55396923 0.08018128]\n",
            " [0.71250148 0.49611034]]\n"
          ]
        }
      ],
      "source": [
        "print(np.random.rand(3, 2))"
      ]
    },
    {
      "cell_type": "markdown",
      "metadata": {
        "id": "_JUImPuH2D_f"
      },
      "source": [
        "## Operations on numpy arrays"
      ]
    },
    {
      "cell_type": "markdown",
      "metadata": {
        "id": "n-J_bDR-2D_f"
      },
      "source": [
        "<img src=\"https://numpy.org/devdocs/_images/np_sub_mult_divide.png\" /> \n"
      ]
    },
    {
      "cell_type": "code",
      "execution_count": null,
      "metadata": {
        "id": "xlcjZJfq2D_f",
        "outputId": "da7bbb49-d536-4105-dd4a-6681abd440e3"
      },
      "outputs": [
        {
          "name": "stdout",
          "output_type": "stream",
          "text": [
            "[[1. 2.]\n",
            " [3. 4.]]\n",
            "\n",
            "[[5. 6.]\n",
            " [7. 8.]]\n"
          ]
        }
      ],
      "source": [
        "x = np.array([[1, 2], [3, 4]], dtype=np.float64)\n",
        "y = np.array([[5, 6], [7, 8]], dtype=np.float64)\n",
        "\n",
        "print(x)\n",
        "print()\n",
        "print(y)"
      ]
    },
    {
      "cell_type": "code",
      "execution_count": null,
      "metadata": {
        "id": "Br9E3u512D_g",
        "outputId": "ac7d01da-b1cf-497a-bbb0-5401c846b1d8"
      },
      "outputs": [
        {
          "name": "stdout",
          "output_type": "stream",
          "text": [
            "[[ 6.  8.]\n",
            " [10. 12.]]\n",
            "\n",
            "[[ 6.  8.]\n",
            " [10. 12.]]\n"
          ]
        }
      ],
      "source": [
        "# Elementwise sum; both produce the array\n",
        "print(x + y)\n",
        "print()\n",
        "print(np.add(x, y))"
      ]
    },
    {
      "cell_type": "code",
      "execution_count": null,
      "metadata": {
        "id": "24xoGot_2D_g",
        "outputId": "fc02e767-84ee-43f5-c21a-6f63eff80ecd"
      },
      "outputs": [
        {
          "name": "stdout",
          "output_type": "stream",
          "text": [
            "[[-4. -4.]\n",
            " [-4. -4.]]\n",
            "\n",
            "[[-4. -4.]\n",
            " [-4. -4.]]\n"
          ]
        }
      ],
      "source": [
        "# Elementwise difference; both produce the array\n",
        "print(x - y)\n",
        "print()\n",
        "print(np.subtract(x, y))"
      ]
    },
    {
      "cell_type": "code",
      "execution_count": null,
      "metadata": {
        "id": "lSSVuDEx2D_g",
        "outputId": "12f13294-0af6-4198-b1ff-84b4e565263c"
      },
      "outputs": [
        {
          "name": "stdout",
          "output_type": "stream",
          "text": [
            "[[ 5. 12.]\n",
            " [21. 32.]]\n",
            "\n",
            "[[ 5. 12.]\n",
            " [21. 32.]]\n"
          ]
        }
      ],
      "source": [
        "# Elementwise product; both produce the array\n",
        "print(x * y)\n",
        "print()\n",
        "print(np.multiply(x, y))"
      ]
    },
    {
      "cell_type": "code",
      "execution_count": null,
      "metadata": {
        "id": "Lm16Gs0H2D_h",
        "outputId": "db917a6c-cf52-4418-b951-1caac70bc4d9"
      },
      "outputs": [
        {
          "name": "stdout",
          "output_type": "stream",
          "text": [
            "[[0.2        0.33333333]\n",
            " [0.42857143 0.5       ]]\n",
            "\n",
            "[[0.2        0.33333333]\n",
            " [0.42857143 0.5       ]]\n"
          ]
        }
      ],
      "source": [
        "# Elementwise division; both produce the array\n",
        "print(x / y)\n",
        "print()\n",
        "print(np.divide(x, y))"
      ]
    },
    {
      "cell_type": "code",
      "execution_count": null,
      "metadata": {
        "id": "JHJBqyGc2D_h",
        "outputId": "f069fbd8-b9c6-4340-ca78-1182125570c7"
      },
      "outputs": [
        {
          "name": "stdout",
          "output_type": "stream",
          "text": [
            "[[1.         1.41421356]\n",
            " [1.73205081 2.        ]]\n"
          ]
        }
      ],
      "source": [
        "# Elementwise square root; produces the array\n",
        "print(np.sqrt(x))"
      ]
    },
    {
      "cell_type": "markdown",
      "metadata": {
        "id": "7CnE-jmn2D_h"
      },
      "source": [
        "# Adding, removing, and sorting elements"
      ]
    },
    {
      "cell_type": "code",
      "execution_count": null,
      "metadata": {
        "id": "TkMGZY1n2D_h"
      },
      "outputs": [],
      "source": [
        "arr = np.array([2, 1, 5, 3, 7, 4, 6, 8])"
      ]
    },
    {
      "cell_type": "code",
      "execution_count": null,
      "metadata": {
        "id": "je_JJ7dd2D_i",
        "outputId": "379e4ee7-dcf7-4c8b-dcf8-7b3bb9060142"
      },
      "outputs": [
        {
          "data": {
            "text/plain": [
              "array([1, 2, 3, 4, 5, 6, 7, 8])"
            ]
          },
          "execution_count": 86,
          "metadata": {},
          "output_type": "execute_result"
        }
      ],
      "source": [
        "np.sort(arr)"
      ]
    },
    {
      "cell_type": "code",
      "execution_count": null,
      "metadata": {
        "id": "Cf_WSH432D_i"
      },
      "outputs": [],
      "source": [
        "a = np.array([10, 20, 30, 40])\n",
        "b = np.array([50, 60, 70, 80])"
      ]
    },
    {
      "cell_type": "code",
      "execution_count": null,
      "metadata": {
        "id": "BWETpEPr2D_i",
        "outputId": "eca7f711-8fbc-48f1-dc2f-416e02f18fa6"
      },
      "outputs": [
        {
          "data": {
            "text/plain": [
              "array([10, 20, 30, 40, 50, 60, 70, 80])"
            ]
          },
          "execution_count": 88,
          "metadata": {},
          "output_type": "execute_result"
        }
      ],
      "source": [
        "np.concatenate((a, b))"
      ]
    },
    {
      "cell_type": "markdown",
      "metadata": {
        "id": "Ilstqx8g2D_i"
      },
      "source": [
        "# More useful array operations"
      ]
    },
    {
      "cell_type": "markdown",
      "metadata": {
        "id": "x7Ad_M4F2D_j"
      },
      "source": [
        "<img src=\"https://numpy.org/devdocs/_images/np_aggregation.png\" /> "
      ]
    },
    {
      "cell_type": "code",
      "execution_count": null,
      "metadata": {
        "scrolled": true,
        "id": "nwJcX6Wo2D_j",
        "outputId": "42ae9ff0-2b60-46a9-8ce2-6054bf8ee2cc"
      },
      "outputs": [
        {
          "data": {
            "text/plain": [
              "array([10, 20, 30, 40])"
            ]
          },
          "execution_count": 89,
          "metadata": {},
          "output_type": "execute_result"
        }
      ],
      "source": [
        "a"
      ]
    },
    {
      "cell_type": "code",
      "execution_count": null,
      "metadata": {
        "id": "Q4yPzxb62D_j",
        "outputId": "7ab7d4f0-dd6b-41fb-c140-25d7bf15ef9c"
      },
      "outputs": [
        {
          "data": {
            "text/plain": [
              "numpy.ndarray"
            ]
          },
          "execution_count": 90,
          "metadata": {},
          "output_type": "execute_result"
        }
      ],
      "source": [
        "type(a)"
      ]
    },
    {
      "cell_type": "code",
      "execution_count": null,
      "metadata": {
        "id": "NJKOgXTC2D_j",
        "outputId": "489c81e3-21c5-41f1-cef8-16834cf82fb5"
      },
      "outputs": [
        {
          "data": {
            "text/plain": [
              "100"
            ]
          },
          "execution_count": 91,
          "metadata": {},
          "output_type": "execute_result"
        }
      ],
      "source": [
        "a.sum()"
      ]
    },
    {
      "cell_type": "code",
      "execution_count": null,
      "metadata": {
        "id": "4DxhXQ782D_k",
        "outputId": "9659552e-0f64-4fbf-9cc0-444a75f8365d"
      },
      "outputs": [
        {
          "data": {
            "text/plain": [
              "10"
            ]
          },
          "execution_count": 92,
          "metadata": {},
          "output_type": "execute_result"
        }
      ],
      "source": [
        "a.min()"
      ]
    },
    {
      "cell_type": "code",
      "execution_count": null,
      "metadata": {
        "id": "DUFQFDoL2D_k",
        "outputId": "ffa6c3ab-4f4a-4963-a2b6-0115357075d1"
      },
      "outputs": [
        {
          "data": {
            "text/plain": [
              "40"
            ]
          },
          "execution_count": 93,
          "metadata": {},
          "output_type": "execute_result"
        }
      ],
      "source": [
        "a.max()"
      ]
    },
    {
      "cell_type": "markdown",
      "metadata": {
        "id": "d7bvrAtR2D_k"
      },
      "source": [
        "<img src=\"https://numpy.org/devdocs/_images/np_matrix_aggregation_row.png\" /> \n"
      ]
    },
    {
      "cell_type": "markdown",
      "metadata": {
        "id": "Ld3x5MZL2D_l"
      },
      "source": [
        "# Flatten() vs. Ravel()"
      ]
    },
    {
      "cell_type": "code",
      "execution_count": null,
      "metadata": {
        "id": "AwBTe8a92D_l"
      },
      "outputs": [],
      "source": [
        "from IPython.display import Image\n",
        "Image(filename='ravelvsflatten.JPG')"
      ]
    },
    {
      "cell_type": "code",
      "execution_count": null,
      "metadata": {
        "id": "soELoz-q2D_l",
        "outputId": "6262e39e-7896-49f0-fbea-625956a8d35a"
      },
      "outputs": [
        {
          "name": "stdout",
          "output_type": "stream",
          "text": [
            "[50 60 70 80]\n"
          ]
        }
      ],
      "source": [
        "print(b)"
      ]
    },
    {
      "cell_type": "code",
      "execution_count": null,
      "metadata": {
        "id": "P1gjfFQc2D_l",
        "outputId": "b5579547-ddaf-4af7-d54c-10787965eb91"
      },
      "outputs": [
        {
          "data": {
            "text/plain": [
              "array([50, 60, 70, 80])"
            ]
          },
          "execution_count": 95,
          "metadata": {},
          "output_type": "execute_result"
        }
      ],
      "source": [
        "b.flatten()"
      ]
    },
    {
      "cell_type": "code",
      "execution_count": null,
      "metadata": {
        "id": "8ZTDYJmf2D_m",
        "outputId": "84c3fa18-6849-4851-c656-86edd85bf44d"
      },
      "outputs": [
        {
          "data": {
            "text/plain": [
              "array([50, 60, 70, 80])"
            ]
          },
          "execution_count": 96,
          "metadata": {},
          "output_type": "execute_result"
        }
      ],
      "source": [
        "b.ravel()"
      ]
    }
  ],
  "metadata": {
    "kernelspec": {
      "display_name": "Python 3",
      "language": "python",
      "name": "python3"
    },
    "language_info": {
      "codemirror_mode": {
        "name": "ipython",
        "version": 3
      },
      "file_extension": ".py",
      "mimetype": "text/x-python",
      "name": "python",
      "nbconvert_exporter": "python",
      "pygments_lexer": "ipython3",
      "version": "3.8.8"
    },
    "colab": {
      "name": "Session 01- Numpy.ipynb",
      "provenance": []
    }
  },
  "nbformat": 4,
  "nbformat_minor": 0
}