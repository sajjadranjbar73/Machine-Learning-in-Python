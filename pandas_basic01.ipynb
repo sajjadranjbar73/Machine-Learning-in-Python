{
  "cells": [
    {
      "cell_type": "code",
      "execution_count": null,
      "metadata": {
        "id": "18M6ZHW9cLF-"
      },
      "outputs": [],
      "source": [
        "import pandas as pd"
      ]
    },
    {
      "cell_type": "code",
      "execution_count": null,
      "metadata": {
        "id": "dfBOGH49cLGE",
        "outputId": "cf27c39c-b781-476a-bd9d-75b986232b8a"
      },
      "outputs": [
        {
          "data": {
            "text/plain": [
              "'1.0.1'"
            ]
          },
          "execution_count": 2,
          "metadata": {},
          "output_type": "execute_result"
        }
      ],
      "source": [
        "pd.__version__"
      ]
    },
    {
      "cell_type": "code",
      "execution_count": null,
      "metadata": {
        "id": "x6zuFTY2cLGG"
      },
      "outputs": [],
      "source": [
        "data = pd.read_csv('melb_data.csv')"
      ]
    },
    {
      "cell_type": "code",
      "execution_count": null,
      "metadata": {
        "id": "AQmqIQxycLGH",
        "outputId": "8dba2bff-3d03-4b5e-b61d-401ffaa3ce69"
      },
      "outputs": [
        {
          "data": {
            "text/html": [
              "<div>\n",
              "<style scoped>\n",
              "    .dataframe tbody tr th:only-of-type {\n",
              "        vertical-align: middle;\n",
              "    }\n",
              "\n",
              "    .dataframe tbody tr th {\n",
              "        vertical-align: top;\n",
              "    }\n",
              "\n",
              "    .dataframe thead th {\n",
              "        text-align: right;\n",
              "    }\n",
              "</style>\n",
              "<table border=\"1\" class=\"dataframe\">\n",
              "  <thead>\n",
              "    <tr style=\"text-align: right;\">\n",
              "      <th></th>\n",
              "      <th>Unnamed: 0</th>\n",
              "      <th>Suburb</th>\n",
              "      <th>Address</th>\n",
              "      <th>Rooms</th>\n",
              "      <th>Type</th>\n",
              "      <th>Price</th>\n",
              "      <th>Method</th>\n",
              "      <th>SellerG</th>\n",
              "      <th>Date</th>\n",
              "      <th>Distance</th>\n",
              "      <th>...</th>\n",
              "      <th>Bathroom</th>\n",
              "      <th>Car</th>\n",
              "      <th>Landsize</th>\n",
              "      <th>BuildingArea</th>\n",
              "      <th>YearBuilt</th>\n",
              "      <th>CouncilArea</th>\n",
              "      <th>Lattitude</th>\n",
              "      <th>Longtitude</th>\n",
              "      <th>Regionname</th>\n",
              "      <th>Propertycount</th>\n",
              "    </tr>\n",
              "  </thead>\n",
              "  <tbody>\n",
              "    <tr>\n",
              "      <th>0</th>\n",
              "      <td>1</td>\n",
              "      <td>Abbotsford</td>\n",
              "      <td>85 Turner St</td>\n",
              "      <td>2</td>\n",
              "      <td>h</td>\n",
              "      <td>1480000.0</td>\n",
              "      <td>S</td>\n",
              "      <td>Biggin</td>\n",
              "      <td>3/12/2016</td>\n",
              "      <td>2.5</td>\n",
              "      <td>...</td>\n",
              "      <td>1.0</td>\n",
              "      <td>1.0</td>\n",
              "      <td>202.0</td>\n",
              "      <td>NaN</td>\n",
              "      <td>NaN</td>\n",
              "      <td>Yarra</td>\n",
              "      <td>-37.79960</td>\n",
              "      <td>144.99840</td>\n",
              "      <td>Northern Metropolitan</td>\n",
              "      <td>4019.0</td>\n",
              "    </tr>\n",
              "    <tr>\n",
              "      <th>1</th>\n",
              "      <td>2</td>\n",
              "      <td>Abbotsford</td>\n",
              "      <td>25 Bloomburg St</td>\n",
              "      <td>2</td>\n",
              "      <td>h</td>\n",
              "      <td>1035000.0</td>\n",
              "      <td>S</td>\n",
              "      <td>Biggin</td>\n",
              "      <td>4/02/2016</td>\n",
              "      <td>2.5</td>\n",
              "      <td>...</td>\n",
              "      <td>1.0</td>\n",
              "      <td>0.0</td>\n",
              "      <td>156.0</td>\n",
              "      <td>79.0</td>\n",
              "      <td>1900.0</td>\n",
              "      <td>Yarra</td>\n",
              "      <td>-37.80790</td>\n",
              "      <td>144.99340</td>\n",
              "      <td>Northern Metropolitan</td>\n",
              "      <td>4019.0</td>\n",
              "    </tr>\n",
              "    <tr>\n",
              "      <th>2</th>\n",
              "      <td>4</td>\n",
              "      <td>Abbotsford</td>\n",
              "      <td>5 Charles St</td>\n",
              "      <td>3</td>\n",
              "      <td>h</td>\n",
              "      <td>1465000.0</td>\n",
              "      <td>SP</td>\n",
              "      <td>Biggin</td>\n",
              "      <td>4/03/2017</td>\n",
              "      <td>2.5</td>\n",
              "      <td>...</td>\n",
              "      <td>2.0</td>\n",
              "      <td>0.0</td>\n",
              "      <td>134.0</td>\n",
              "      <td>150.0</td>\n",
              "      <td>1900.0</td>\n",
              "      <td>Yarra</td>\n",
              "      <td>-37.80930</td>\n",
              "      <td>144.99440</td>\n",
              "      <td>Northern Metropolitan</td>\n",
              "      <td>4019.0</td>\n",
              "    </tr>\n",
              "    <tr>\n",
              "      <th>3</th>\n",
              "      <td>5</td>\n",
              "      <td>Abbotsford</td>\n",
              "      <td>40 Federation La</td>\n",
              "      <td>3</td>\n",
              "      <td>h</td>\n",
              "      <td>850000.0</td>\n",
              "      <td>PI</td>\n",
              "      <td>Biggin</td>\n",
              "      <td>4/03/2017</td>\n",
              "      <td>2.5</td>\n",
              "      <td>...</td>\n",
              "      <td>2.0</td>\n",
              "      <td>1.0</td>\n",
              "      <td>94.0</td>\n",
              "      <td>NaN</td>\n",
              "      <td>NaN</td>\n",
              "      <td>Yarra</td>\n",
              "      <td>-37.79690</td>\n",
              "      <td>144.99690</td>\n",
              "      <td>Northern Metropolitan</td>\n",
              "      <td>4019.0</td>\n",
              "    </tr>\n",
              "    <tr>\n",
              "      <th>4</th>\n",
              "      <td>6</td>\n",
              "      <td>Abbotsford</td>\n",
              "      <td>55a Park St</td>\n",
              "      <td>4</td>\n",
              "      <td>h</td>\n",
              "      <td>1600000.0</td>\n",
              "      <td>VB</td>\n",
              "      <td>Nelson</td>\n",
              "      <td>4/06/2016</td>\n",
              "      <td>2.5</td>\n",
              "      <td>...</td>\n",
              "      <td>1.0</td>\n",
              "      <td>2.0</td>\n",
              "      <td>120.0</td>\n",
              "      <td>142.0</td>\n",
              "      <td>2014.0</td>\n",
              "      <td>Yarra</td>\n",
              "      <td>-37.80720</td>\n",
              "      <td>144.99410</td>\n",
              "      <td>Northern Metropolitan</td>\n",
              "      <td>4019.0</td>\n",
              "    </tr>\n",
              "    <tr>\n",
              "      <th>...</th>\n",
              "      <td>...</td>\n",
              "      <td>...</td>\n",
              "      <td>...</td>\n",
              "      <td>...</td>\n",
              "      <td>...</td>\n",
              "      <td>...</td>\n",
              "      <td>...</td>\n",
              "      <td>...</td>\n",
              "      <td>...</td>\n",
              "      <td>...</td>\n",
              "      <td>...</td>\n",
              "      <td>...</td>\n",
              "      <td>...</td>\n",
              "      <td>...</td>\n",
              "      <td>...</td>\n",
              "      <td>...</td>\n",
              "      <td>...</td>\n",
              "      <td>...</td>\n",
              "      <td>...</td>\n",
              "      <td>...</td>\n",
              "      <td>...</td>\n",
              "    </tr>\n",
              "    <tr>\n",
              "      <th>18391</th>\n",
              "      <td>23540</td>\n",
              "      <td>Williamstown</td>\n",
              "      <td>8/2 Thompson St</td>\n",
              "      <td>2</td>\n",
              "      <td>t</td>\n",
              "      <td>622500.0</td>\n",
              "      <td>SP</td>\n",
              "      <td>Greg</td>\n",
              "      <td>26/08/2017</td>\n",
              "      <td>6.8</td>\n",
              "      <td>...</td>\n",
              "      <td>2.0</td>\n",
              "      <td>1.0</td>\n",
              "      <td>NaN</td>\n",
              "      <td>89.0</td>\n",
              "      <td>2010.0</td>\n",
              "      <td>NaN</td>\n",
              "      <td>-37.86393</td>\n",
              "      <td>144.90484</td>\n",
              "      <td>Western Metropolitan</td>\n",
              "      <td>6380.0</td>\n",
              "    </tr>\n",
              "    <tr>\n",
              "      <th>18392</th>\n",
              "      <td>23541</td>\n",
              "      <td>Williamstown</td>\n",
              "      <td>96 Verdon St</td>\n",
              "      <td>4</td>\n",
              "      <td>h</td>\n",
              "      <td>2500000.0</td>\n",
              "      <td>PI</td>\n",
              "      <td>Sweeney</td>\n",
              "      <td>26/08/2017</td>\n",
              "      <td>6.8</td>\n",
              "      <td>...</td>\n",
              "      <td>1.0</td>\n",
              "      <td>5.0</td>\n",
              "      <td>866.0</td>\n",
              "      <td>157.0</td>\n",
              "      <td>1920.0</td>\n",
              "      <td>NaN</td>\n",
              "      <td>-37.85908</td>\n",
              "      <td>144.89299</td>\n",
              "      <td>Western Metropolitan</td>\n",
              "      <td>6380.0</td>\n",
              "    </tr>\n",
              "    <tr>\n",
              "      <th>18393</th>\n",
              "      <td>23544</td>\n",
              "      <td>Yallambie</td>\n",
              "      <td>17 Amaroo Wy</td>\n",
              "      <td>4</td>\n",
              "      <td>h</td>\n",
              "      <td>1100000.0</td>\n",
              "      <td>S</td>\n",
              "      <td>Buckingham</td>\n",
              "      <td>26/08/2017</td>\n",
              "      <td>12.7</td>\n",
              "      <td>...</td>\n",
              "      <td>3.0</td>\n",
              "      <td>2.0</td>\n",
              "      <td>NaN</td>\n",
              "      <td>NaN</td>\n",
              "      <td>NaN</td>\n",
              "      <td>NaN</td>\n",
              "      <td>-37.72006</td>\n",
              "      <td>145.10547</td>\n",
              "      <td>Northern Metropolitan</td>\n",
              "      <td>1369.0</td>\n",
              "    </tr>\n",
              "    <tr>\n",
              "      <th>18394</th>\n",
              "      <td>23545</td>\n",
              "      <td>Yarraville</td>\n",
              "      <td>6 Agnes St</td>\n",
              "      <td>4</td>\n",
              "      <td>h</td>\n",
              "      <td>1285000.0</td>\n",
              "      <td>SP</td>\n",
              "      <td>Village</td>\n",
              "      <td>26/08/2017</td>\n",
              "      <td>6.3</td>\n",
              "      <td>...</td>\n",
              "      <td>1.0</td>\n",
              "      <td>1.0</td>\n",
              "      <td>362.0</td>\n",
              "      <td>112.0</td>\n",
              "      <td>1920.0</td>\n",
              "      <td>NaN</td>\n",
              "      <td>-37.81188</td>\n",
              "      <td>144.88449</td>\n",
              "      <td>Western Metropolitan</td>\n",
              "      <td>6543.0</td>\n",
              "    </tr>\n",
              "    <tr>\n",
              "      <th>18395</th>\n",
              "      <td>23546</td>\n",
              "      <td>Yarraville</td>\n",
              "      <td>33 Freeman St</td>\n",
              "      <td>4</td>\n",
              "      <td>h</td>\n",
              "      <td>1050000.0</td>\n",
              "      <td>VB</td>\n",
              "      <td>Village</td>\n",
              "      <td>26/08/2017</td>\n",
              "      <td>6.3</td>\n",
              "      <td>...</td>\n",
              "      <td>2.0</td>\n",
              "      <td>2.0</td>\n",
              "      <td>NaN</td>\n",
              "      <td>139.0</td>\n",
              "      <td>1950.0</td>\n",
              "      <td>NaN</td>\n",
              "      <td>-37.81829</td>\n",
              "      <td>144.87404</td>\n",
              "      <td>Western Metropolitan</td>\n",
              "      <td>6543.0</td>\n",
              "    </tr>\n",
              "  </tbody>\n",
              "</table>\n",
              "<p>18396 rows × 22 columns</p>\n",
              "</div>"
            ],
            "text/plain": [
              "       Unnamed: 0        Suburb           Address  Rooms Type      Price  \\\n",
              "0               1    Abbotsford      85 Turner St      2    h  1480000.0   \n",
              "1               2    Abbotsford   25 Bloomburg St      2    h  1035000.0   \n",
              "2               4    Abbotsford      5 Charles St      3    h  1465000.0   \n",
              "3               5    Abbotsford  40 Federation La      3    h   850000.0   \n",
              "4               6    Abbotsford       55a Park St      4    h  1600000.0   \n",
              "...           ...           ...               ...    ...  ...        ...   \n",
              "18391       23540  Williamstown   8/2 Thompson St      2    t   622500.0   \n",
              "18392       23541  Williamstown      96 Verdon St      4    h  2500000.0   \n",
              "18393       23544     Yallambie      17 Amaroo Wy      4    h  1100000.0   \n",
              "18394       23545    Yarraville        6 Agnes St      4    h  1285000.0   \n",
              "18395       23546    Yarraville     33 Freeman St      4    h  1050000.0   \n",
              "\n",
              "      Method     SellerG        Date  Distance  ...  Bathroom  Car  Landsize  \\\n",
              "0          S      Biggin   3/12/2016       2.5  ...       1.0  1.0     202.0   \n",
              "1          S      Biggin   4/02/2016       2.5  ...       1.0  0.0     156.0   \n",
              "2         SP      Biggin   4/03/2017       2.5  ...       2.0  0.0     134.0   \n",
              "3         PI      Biggin   4/03/2017       2.5  ...       2.0  1.0      94.0   \n",
              "4         VB      Nelson   4/06/2016       2.5  ...       1.0  2.0     120.0   \n",
              "...      ...         ...         ...       ...  ...       ...  ...       ...   \n",
              "18391     SP        Greg  26/08/2017       6.8  ...       2.0  1.0       NaN   \n",
              "18392     PI     Sweeney  26/08/2017       6.8  ...       1.0  5.0     866.0   \n",
              "18393      S  Buckingham  26/08/2017      12.7  ...       3.0  2.0       NaN   \n",
              "18394     SP     Village  26/08/2017       6.3  ...       1.0  1.0     362.0   \n",
              "18395     VB     Village  26/08/2017       6.3  ...       2.0  2.0       NaN   \n",
              "\n",
              "       BuildingArea  YearBuilt  CouncilArea  Lattitude Longtitude  \\\n",
              "0               NaN        NaN        Yarra  -37.79960  144.99840   \n",
              "1              79.0     1900.0        Yarra  -37.80790  144.99340   \n",
              "2             150.0     1900.0        Yarra  -37.80930  144.99440   \n",
              "3               NaN        NaN        Yarra  -37.79690  144.99690   \n",
              "4             142.0     2014.0        Yarra  -37.80720  144.99410   \n",
              "...             ...        ...          ...        ...        ...   \n",
              "18391          89.0     2010.0          NaN  -37.86393  144.90484   \n",
              "18392         157.0     1920.0          NaN  -37.85908  144.89299   \n",
              "18393           NaN        NaN          NaN  -37.72006  145.10547   \n",
              "18394         112.0     1920.0          NaN  -37.81188  144.88449   \n",
              "18395         139.0     1950.0          NaN  -37.81829  144.87404   \n",
              "\n",
              "                  Regionname  Propertycount  \n",
              "0      Northern Metropolitan         4019.0  \n",
              "1      Northern Metropolitan         4019.0  \n",
              "2      Northern Metropolitan         4019.0  \n",
              "3      Northern Metropolitan         4019.0  \n",
              "4      Northern Metropolitan         4019.0  \n",
              "...                      ...            ...  \n",
              "18391   Western Metropolitan         6380.0  \n",
              "18392   Western Metropolitan         6380.0  \n",
              "18393  Northern Metropolitan         1369.0  \n",
              "18394   Western Metropolitan         6543.0  \n",
              "18395   Western Metropolitan         6543.0  \n",
              "\n",
              "[18396 rows x 22 columns]"
            ]
          },
          "execution_count": 4,
          "metadata": {},
          "output_type": "execute_result"
        }
      ],
      "source": [
        "data"
      ]
    },
    {
      "cell_type": "code",
      "execution_count": null,
      "metadata": {
        "id": "NwDDYQT0cLGI",
        "outputId": "0f969f00-3643-4e98-9163-950736377c9f"
      },
      "outputs": [
        {
          "data": {
            "text/plain": [
              "0    Tiger\n",
              "1     Bear\n",
              "2    Moose\n",
              "dtype: object"
            ]
          },
          "execution_count": 5,
          "metadata": {},
          "output_type": "execute_result"
        }
      ],
      "source": [
        "animals = ['Tiger', 'Bear', 'Moose']\n",
        "p_animals = pd.Series(animals)\n",
        "p_animals"
      ]
    },
    {
      "cell_type": "code",
      "execution_count": null,
      "metadata": {
        "id": "7YVisptccLGI",
        "outputId": "3675e0de-6086-4582-e883-51a928acd2db"
      },
      "outputs": [
        {
          "data": {
            "text/plain": [
              "pandas.core.series.Series"
            ]
          },
          "execution_count": 6,
          "metadata": {},
          "output_type": "execute_result"
        }
      ],
      "source": [
        "type(p_animals)"
      ]
    },
    {
      "cell_type": "code",
      "execution_count": null,
      "metadata": {
        "id": "I-NcUHLzcLGJ",
        "outputId": "ce41172b-5b97-41ae-9108-5dda44652e0e"
      },
      "outputs": [
        {
          "data": {
            "text/plain": [
              "'Moose'"
            ]
          },
          "execution_count": 8,
          "metadata": {},
          "output_type": "execute_result"
        }
      ],
      "source": [
        "p_animals[2]"
      ]
    },
    {
      "cell_type": "code",
      "execution_count": null,
      "metadata": {
        "id": "LktZ7R8jcLGK",
        "outputId": "fdcf4a8e-c067-4f7c-92db-5408343de683"
      },
      "outputs": [
        {
          "data": {
            "text/plain": [
              "0    Tiger\n",
              "1     Bear\n",
              "2     None\n",
              "dtype: object"
            ]
          },
          "execution_count": 9,
          "metadata": {},
          "output_type": "execute_result"
        }
      ],
      "source": [
        "animals = ['Tiger', 'Bear', None]\n",
        "p_animals = pd.Series(animals)\n",
        "p_animals"
      ]
    },
    {
      "cell_type": "code",
      "execution_count": null,
      "metadata": {
        "id": "OQ6wHi0ycLGM",
        "outputId": "51d0e7e6-dcf6-480e-b9f3-a43010a02891"
      },
      "outputs": [
        {
          "data": {
            "text/plain": [
              "0     2.0\n",
              "1    20.1\n",
              "2     1.5\n",
              "dtype: float64"
            ]
          },
          "execution_count": 11,
          "metadata": {},
          "output_type": "execute_result"
        }
      ],
      "source": [
        "animals = [2.0, 20.1, 1.5]\n",
        "p_animals = pd.Series(animals)\n",
        "p_animals"
      ]
    },
    {
      "cell_type": "code",
      "execution_count": null,
      "metadata": {
        "id": "lGqmGqw7cLGO",
        "outputId": "fa9cbc7b-4c02-4f12-a113-15a5687506ba"
      },
      "outputs": [
        {
          "data": {
            "text/plain": [
              "0     2.0\n",
              "1    20.1\n",
              "2     NaN\n",
              "dtype: float64"
            ]
          },
          "execution_count": 12,
          "metadata": {},
          "output_type": "execute_result"
        }
      ],
      "source": [
        "animals = [2.0, 20.1, None]\n",
        "p_animals = pd.Series(animals)\n",
        "p_animals"
      ]
    },
    {
      "cell_type": "code",
      "execution_count": null,
      "metadata": {
        "id": "eN47sL6HcLGP",
        "outputId": "1de96be9-d938-4409-9cc6-a038875a23fe"
      },
      "outputs": [
        {
          "data": {
            "text/plain": [
              "n1    Tiger\n",
              "n2     Bear\n",
              "n3     None\n",
              "dtype: object"
            ]
          },
          "execution_count": 14,
          "metadata": {},
          "output_type": "execute_result"
        }
      ],
      "source": [
        "animals = {\n",
        "    'n1': 'Tiger',\n",
        "    'n2': 'Bear',\n",
        "    'n3': None\n",
        "}\n",
        "p_animals = pd.Series(animals)\n",
        "p_animals"
      ]
    },
    {
      "cell_type": "code",
      "execution_count": null,
      "metadata": {
        "id": "qrmtNXVPcLGQ",
        "outputId": "a71904e0-211c-4faf-a235-f14142c797e2"
      },
      "outputs": [
        {
          "data": {
            "text/plain": [
              "pandas.core.series.Series"
            ]
          },
          "execution_count": 15,
          "metadata": {},
          "output_type": "execute_result"
        }
      ],
      "source": [
        "type(p_animals)"
      ]
    },
    {
      "cell_type": "code",
      "execution_count": null,
      "metadata": {
        "id": "jsfu1KzKcLGQ",
        "outputId": "bb12c43f-e80b-495d-e57d-d80c38827f5d"
      },
      "outputs": [
        {
          "data": {
            "text/plain": [
              "Index(['n1', 'n2', 'n3'], dtype='object')"
            ]
          },
          "execution_count": 16,
          "metadata": {},
          "output_type": "execute_result"
        }
      ],
      "source": [
        "p_animals.index"
      ]
    },
    {
      "cell_type": "code",
      "execution_count": null,
      "metadata": {
        "id": "Shc_NgWBcLGR",
        "outputId": "8c418d98-a52a-465a-fc2e-a0a6ff4459cf"
      },
      "outputs": [
        {
          "data": {
            "text/plain": [
              "array(['Tiger', 'Bear', None], dtype=object)"
            ]
          },
          "execution_count": 19,
          "metadata": {},
          "output_type": "execute_result"
        }
      ],
      "source": [
        "p_animals.values"
      ]
    },
    {
      "cell_type": "code",
      "execution_count": null,
      "metadata": {
        "id": "XEBuMQEEcLGS",
        "outputId": "32cb7e2f-e080-48db-e20d-499700c1211c"
      },
      "outputs": [
        {
          "data": {
            "text/plain": [
              "n1    Tiger\n",
              "n2     Bear\n",
              "n3    Moose\n",
              "dtype: object"
            ]
          },
          "execution_count": 21,
          "metadata": {},
          "output_type": "execute_result"
        }
      ],
      "source": [
        "p_animals = pd.Series(['Tiger', 'Bear', 'Moose'], index=['n1', 'n2', 'n3'])\n",
        "p_animals"
      ]
    },
    {
      "cell_type": "code",
      "execution_count": null,
      "metadata": {
        "id": "-I6Rb97pcLGS",
        "outputId": "bc284a35-bfc5-4924-d6b8-846cbc4cb635"
      },
      "outputs": [
        {
          "data": {
            "text/plain": [
              "'Tiger'"
            ]
          },
          "execution_count": 22,
          "metadata": {},
          "output_type": "execute_result"
        }
      ],
      "source": [
        "p_animals['n1']"
      ]
    },
    {
      "cell_type": "code",
      "execution_count": null,
      "metadata": {
        "id": "BfqCIzjKcLGS",
        "outputId": "8e3ccb91-bb27-4dbf-ae99-6e7ca6e504b6"
      },
      "outputs": [
        {
          "data": {
            "text/plain": [
              "'Moose'"
            ]
          },
          "execution_count": 28,
          "metadata": {},
          "output_type": "execute_result"
        }
      ],
      "source": [
        "p_animals.iloc[2]"
      ]
    },
    {
      "cell_type": "code",
      "execution_count": null,
      "metadata": {
        "id": "PQy3zFGDcLGT",
        "outputId": "622d571f-86cf-4690-ab73-6560f5f6f576"
      },
      "outputs": [
        {
          "data": {
            "text/plain": [
              "'Tiger'"
            ]
          },
          "execution_count": 29,
          "metadata": {},
          "output_type": "execute_result"
        }
      ],
      "source": [
        "p_animals.loc['n1']"
      ]
    },
    {
      "cell_type": "code",
      "execution_count": null,
      "metadata": {
        "id": "gXirMr_GcLGT",
        "outputId": "a3346d0a-1b83-41a6-da4a-ab844f6932d9"
      },
      "outputs": [
        {
          "name": "stdout",
          "output_type": "stream",
          "text": [
            "Salam Tiger\n",
            "Salam Bear\n",
            "Salam Moose\n"
          ]
        }
      ],
      "source": [
        "for item in p_animals:\n",
        "    print('Salam ' + str(item))"
      ]
    },
    {
      "cell_type": "code",
      "execution_count": null,
      "metadata": {
        "id": "0OCBXPhmcLGU"
      },
      "outputs": [],
      "source": [
        "import numpy as np"
      ]
    },
    {
      "cell_type": "code",
      "execution_count": null,
      "metadata": {
        "id": "Fa16C3bVcLGU",
        "outputId": "038e8207-2bfd-4aa6-9c47-474bd8d36ba3"
      },
      "outputs": [
        {
          "data": {
            "text/plain": [
              "27.1"
            ]
          },
          "execution_count": 32,
          "metadata": {},
          "output_type": "execute_result"
        }
      ],
      "source": [
        "animals = [2.0, 20.1, 5]\n",
        "p_animals = pd.Series(animals)\n",
        "np.sum(p_animals)"
      ]
    },
    {
      "cell_type": "code",
      "execution_count": null,
      "metadata": {
        "id": "P3R8B0fCcLGV",
        "outputId": "78f5ae09-c8cc-4f01-c6f7-efa16627561c"
      },
      "outputs": [
        {
          "data": {
            "text/plain": [
              "0         2\n",
              "1      20.1\n",
              "2    Masoud\n",
              "dtype: object"
            ]
          },
          "execution_count": 37,
          "metadata": {},
          "output_type": "execute_result"
        }
      ],
      "source": [
        "animals = [2.0, 20.1, 'Masoud']\n",
        "p_animals = pd.Series(animals)\n",
        "p_animals"
      ]
    },
    {
      "cell_type": "code",
      "execution_count": null,
      "metadata": {
        "id": "B9NB_ID9cLGV",
        "outputId": "d21d4acb-7695-4456-c9f3-40e22ca70230"
      },
      "outputs": [
        {
          "name": "stdout",
          "output_type": "stream",
          "text": [
            "Salam 2.0 ... index is 0\n",
            "Salam 20.1 ... index is 1\n",
            "Salam Masoud ... index is 2\n"
          ]
        }
      ],
      "source": [
        "for index, item in p_animals.iteritems():\n",
        "    print('Salam ' + str(item) + ' ... index is ' + str(index))"
      ]
    },
    {
      "cell_type": "code",
      "execution_count": null,
      "metadata": {
        "id": "dIDwS0QkcLGW",
        "outputId": "85d38eb0-f0be-4e2b-9706-dd9e9b6ffda9"
      },
      "outputs": [
        {
          "data": {
            "text/html": [
              "<div>\n",
              "<style scoped>\n",
              "    .dataframe tbody tr th:only-of-type {\n",
              "        vertical-align: middle;\n",
              "    }\n",
              "\n",
              "    .dataframe tbody tr th {\n",
              "        vertical-align: top;\n",
              "    }\n",
              "\n",
              "    .dataframe thead th {\n",
              "        text-align: right;\n",
              "    }\n",
              "</style>\n",
              "<table border=\"1\" class=\"dataframe\">\n",
              "  <thead>\n",
              "    <tr style=\"text-align: right;\">\n",
              "      <th></th>\n",
              "      <th>n1</th>\n",
              "      <th>n2</th>\n",
              "      <th>n3</th>\n",
              "    </tr>\n",
              "  </thead>\n",
              "  <tbody>\n",
              "    <tr>\n",
              "      <th>r1</th>\n",
              "      <td>Tiger</td>\n",
              "      <td>Bear</td>\n",
              "      <td>Moose</td>\n",
              "    </tr>\n",
              "    <tr>\n",
              "      <th>r2</th>\n",
              "      <td>Tiger2</td>\n",
              "      <td>Bear2</td>\n",
              "      <td>Moose2</td>\n",
              "    </tr>\n",
              "    <tr>\n",
              "      <th>r3</th>\n",
              "      <td>Tiger3</td>\n",
              "      <td>Bear3</td>\n",
              "      <td>Moose3</td>\n",
              "    </tr>\n",
              "  </tbody>\n",
              "</table>\n",
              "</div>"
            ],
            "text/plain": [
              "        n1     n2      n3\n",
              "r1   Tiger   Bear   Moose\n",
              "r2  Tiger2  Bear2  Moose2\n",
              "r3  Tiger3  Bear3  Moose3"
            ]
          },
          "execution_count": 42,
          "metadata": {},
          "output_type": "execute_result"
        }
      ],
      "source": [
        "animals = {\n",
        "    'n1': 'Tiger',\n",
        "    'n2': 'Bear',\n",
        "    'n3': 'Moose'\n",
        "}\n",
        "p_animals = pd.Series(animals)\n",
        "animals = {\n",
        "    'n1': 'Tiger2',\n",
        "    'n2': 'Bear2',\n",
        "    'n3': 'Moose2'\n",
        "}\n",
        "p_animals2 = pd.Series(animals)\n",
        "animals = {\n",
        "    'n1': 'Tiger3',\n",
        "    'n2': 'Bear3',\n",
        "    'n3': 'Moose3'\n",
        "}\n",
        "p_animals3 = pd.Series(animals)\n",
        "\n",
        "df = pd.DataFrame([p_animals, p_animals2, p_animals3], index=['r1', 'r2', 'r3'])\n",
        "df"
      ]
    },
    {
      "cell_type": "code",
      "execution_count": null,
      "metadata": {
        "id": "f3ClrjWjcLGW",
        "outputId": "010fee6b-01af-49a3-efab-4e80f8fd2042"
      },
      "outputs": [
        {
          "data": {
            "text/plain": [
              "n1    Tiger2\n",
              "n2     Bear2\n",
              "n3    Moose2\n",
              "Name: r2, dtype: object"
            ]
          },
          "execution_count": 43,
          "metadata": {},
          "output_type": "execute_result"
        }
      ],
      "source": [
        "df.loc['r2']"
      ]
    },
    {
      "cell_type": "code",
      "execution_count": null,
      "metadata": {
        "id": "vxgo8EeMcLGX",
        "outputId": "e309b713-9d6a-4523-b66d-0b3bd7c71c79"
      },
      "outputs": [
        {
          "data": {
            "text/plain": [
              "'Tiger2'"
            ]
          },
          "execution_count": 44,
          "metadata": {},
          "output_type": "execute_result"
        }
      ],
      "source": [
        "df.loc['r2'].loc['n1']"
      ]
    },
    {
      "cell_type": "code",
      "execution_count": null,
      "metadata": {
        "id": "qHuZTDB9cLGX",
        "outputId": "fc4b7154-6f59-4522-87a0-dbd744af3a02"
      },
      "outputs": [
        {
          "data": {
            "text/plain": [
              "'Bear'"
            ]
          },
          "execution_count": 49,
          "metadata": {},
          "output_type": "execute_result"
        }
      ],
      "source": [
        "df.loc['r1', 'n2']"
      ]
    },
    {
      "cell_type": "code",
      "execution_count": null,
      "metadata": {
        "id": "mWKg_YTXcLGX",
        "outputId": "d55fba9a-a066-4e94-91f4-85654bb892c8"
      },
      "outputs": [
        {
          "data": {
            "text/html": [
              "<div>\n",
              "<style scoped>\n",
              "    .dataframe tbody tr th:only-of-type {\n",
              "        vertical-align: middle;\n",
              "    }\n",
              "\n",
              "    .dataframe tbody tr th {\n",
              "        vertical-align: top;\n",
              "    }\n",
              "\n",
              "    .dataframe thead th {\n",
              "        text-align: right;\n",
              "    }\n",
              "</style>\n",
              "<table border=\"1\" class=\"dataframe\">\n",
              "  <thead>\n",
              "    <tr style=\"text-align: right;\">\n",
              "      <th></th>\n",
              "      <th>r1</th>\n",
              "      <th>r2</th>\n",
              "      <th>r3</th>\n",
              "    </tr>\n",
              "  </thead>\n",
              "  <tbody>\n",
              "    <tr>\n",
              "      <th>n1</th>\n",
              "      <td>Tiger</td>\n",
              "      <td>Tiger2</td>\n",
              "      <td>Tiger3</td>\n",
              "    </tr>\n",
              "    <tr>\n",
              "      <th>n2</th>\n",
              "      <td>Bear</td>\n",
              "      <td>Bear2</td>\n",
              "      <td>Bear3</td>\n",
              "    </tr>\n",
              "    <tr>\n",
              "      <th>n3</th>\n",
              "      <td>Moose</td>\n",
              "      <td>Moose2</td>\n",
              "      <td>Moose3</td>\n",
              "    </tr>\n",
              "  </tbody>\n",
              "</table>\n",
              "</div>"
            ],
            "text/plain": [
              "       r1      r2      r3\n",
              "n1  Tiger  Tiger2  Tiger3\n",
              "n2   Bear   Bear2   Bear3\n",
              "n3  Moose  Moose2  Moose3"
            ]
          },
          "execution_count": 50,
          "metadata": {},
          "output_type": "execute_result"
        }
      ],
      "source": [
        "df.T"
      ]
    },
    {
      "cell_type": "code",
      "execution_count": null,
      "metadata": {
        "id": "rYWvsA5GcLGY",
        "outputId": "401c5041-add8-462c-e786-3b6a21101cbd"
      },
      "outputs": [
        {
          "data": {
            "text/html": [
              "<div>\n",
              "<style scoped>\n",
              "    .dataframe tbody tr th:only-of-type {\n",
              "        vertical-align: middle;\n",
              "    }\n",
              "\n",
              "    .dataframe tbody tr th {\n",
              "        vertical-align: top;\n",
              "    }\n",
              "\n",
              "    .dataframe thead th {\n",
              "        text-align: right;\n",
              "    }\n",
              "</style>\n",
              "<table border=\"1\" class=\"dataframe\">\n",
              "  <thead>\n",
              "    <tr style=\"text-align: right;\">\n",
              "      <th></th>\n",
              "      <th>n2</th>\n",
              "    </tr>\n",
              "  </thead>\n",
              "  <tbody>\n",
              "    <tr>\n",
              "      <th>r1</th>\n",
              "      <td>Bear</td>\n",
              "    </tr>\n",
              "    <tr>\n",
              "      <th>r2</th>\n",
              "      <td>Bear2</td>\n",
              "    </tr>\n",
              "    <tr>\n",
              "      <th>r3</th>\n",
              "      <td>Bear3</td>\n",
              "    </tr>\n",
              "  </tbody>\n",
              "</table>\n",
              "</div>"
            ],
            "text/plain": [
              "       n2\n",
              "r1   Bear\n",
              "r2  Bear2\n",
              "r3  Bear3"
            ]
          },
          "execution_count": 55,
          "metadata": {},
          "output_type": "execute_result"
        }
      ],
      "source": [
        "df[['n2']]"
      ]
    },
    {
      "cell_type": "code",
      "execution_count": null,
      "metadata": {
        "id": "_iT39cWfcLGY",
        "outputId": "b420bcf4-0758-4246-d39b-a5730f86b6d5"
      },
      "outputs": [
        {
          "data": {
            "text/html": [
              "<div>\n",
              "<style scoped>\n",
              "    .dataframe tbody tr th:only-of-type {\n",
              "        vertical-align: middle;\n",
              "    }\n",
              "\n",
              "    .dataframe tbody tr th {\n",
              "        vertical-align: top;\n",
              "    }\n",
              "\n",
              "    .dataframe thead th {\n",
              "        text-align: right;\n",
              "    }\n",
              "</style>\n",
              "<table border=\"1\" class=\"dataframe\">\n",
              "  <thead>\n",
              "    <tr style=\"text-align: right;\">\n",
              "      <th></th>\n",
              "      <th>n2</th>\n",
              "      <th>n3</th>\n",
              "    </tr>\n",
              "  </thead>\n",
              "  <tbody>\n",
              "    <tr>\n",
              "      <th>r1</th>\n",
              "      <td>Bear</td>\n",
              "      <td>Moose</td>\n",
              "    </tr>\n",
              "    <tr>\n",
              "      <th>r2</th>\n",
              "      <td>Bear2</td>\n",
              "      <td>Moose2</td>\n",
              "    </tr>\n",
              "    <tr>\n",
              "      <th>r3</th>\n",
              "      <td>Bear3</td>\n",
              "      <td>Moose3</td>\n",
              "    </tr>\n",
              "  </tbody>\n",
              "</table>\n",
              "</div>"
            ],
            "text/plain": [
              "       n2      n3\n",
              "r1   Bear   Moose\n",
              "r2  Bear2  Moose2\n",
              "r3  Bear3  Moose3"
            ]
          },
          "execution_count": 58,
          "metadata": {},
          "output_type": "execute_result"
        }
      ],
      "source": [
        "df.loc[:, ['n2', 'n3']]"
      ]
    },
    {
      "cell_type": "code",
      "execution_count": null,
      "metadata": {
        "id": "NM6YzajAcLGY"
      },
      "outputs": [],
      "source": [
        "df.drop('r1', inplace=True)"
      ]
    },
    {
      "cell_type": "code",
      "execution_count": null,
      "metadata": {
        "id": "LNc8ZwM7cLGZ",
        "outputId": "9c056744-475d-41e4-c12f-e81b18f01b77"
      },
      "outputs": [
        {
          "data": {
            "text/html": [
              "<div>\n",
              "<style scoped>\n",
              "    .dataframe tbody tr th:only-of-type {\n",
              "        vertical-align: middle;\n",
              "    }\n",
              "\n",
              "    .dataframe tbody tr th {\n",
              "        vertical-align: top;\n",
              "    }\n",
              "\n",
              "    .dataframe thead th {\n",
              "        text-align: right;\n",
              "    }\n",
              "</style>\n",
              "<table border=\"1\" class=\"dataframe\">\n",
              "  <thead>\n",
              "    <tr style=\"text-align: right;\">\n",
              "      <th></th>\n",
              "      <th>n1</th>\n",
              "      <th>n2</th>\n",
              "      <th>n3</th>\n",
              "    </tr>\n",
              "  </thead>\n",
              "  <tbody>\n",
              "    <tr>\n",
              "      <th>r2</th>\n",
              "      <td>Tiger2</td>\n",
              "      <td>Bear2</td>\n",
              "      <td>Moose2</td>\n",
              "    </tr>\n",
              "    <tr>\n",
              "      <th>r3</th>\n",
              "      <td>Tiger3</td>\n",
              "      <td>Bear3</td>\n",
              "      <td>Moose3</td>\n",
              "    </tr>\n",
              "  </tbody>\n",
              "</table>\n",
              "</div>"
            ],
            "text/plain": [
              "        n1     n2      n3\n",
              "r2  Tiger2  Bear2  Moose2\n",
              "r3  Tiger3  Bear3  Moose3"
            ]
          },
          "execution_count": 62,
          "metadata": {},
          "output_type": "execute_result"
        }
      ],
      "source": [
        "df"
      ]
    },
    {
      "cell_type": "code",
      "execution_count": null,
      "metadata": {
        "id": "E-Bm-TDgcLGZ"
      },
      "outputs": [],
      "source": [
        "df2 = df"
      ]
    },
    {
      "cell_type": "code",
      "execution_count": null,
      "metadata": {
        "id": "IwFMK1JgcLGZ"
      },
      "outputs": [],
      "source": [
        "df2.drop('r2', inplace=True)"
      ]
    },
    {
      "cell_type": "code",
      "execution_count": null,
      "metadata": {
        "id": "tNambh4VcLGZ",
        "outputId": "c4d4526e-e681-42c7-841a-1ad4e0082931"
      },
      "outputs": [
        {
          "data": {
            "text/html": [
              "<div>\n",
              "<style scoped>\n",
              "    .dataframe tbody tr th:only-of-type {\n",
              "        vertical-align: middle;\n",
              "    }\n",
              "\n",
              "    .dataframe tbody tr th {\n",
              "        vertical-align: top;\n",
              "    }\n",
              "\n",
              "    .dataframe thead th {\n",
              "        text-align: right;\n",
              "    }\n",
              "</style>\n",
              "<table border=\"1\" class=\"dataframe\">\n",
              "  <thead>\n",
              "    <tr style=\"text-align: right;\">\n",
              "      <th></th>\n",
              "      <th>n1</th>\n",
              "      <th>n2</th>\n",
              "      <th>n3</th>\n",
              "    </tr>\n",
              "  </thead>\n",
              "  <tbody>\n",
              "    <tr>\n",
              "      <th>r3</th>\n",
              "      <td>Tiger3</td>\n",
              "      <td>Bear3</td>\n",
              "      <td>Moose3</td>\n",
              "    </tr>\n",
              "  </tbody>\n",
              "</table>\n",
              "</div>"
            ],
            "text/plain": [
              "        n1     n2      n3\n",
              "r3  Tiger3  Bear3  Moose3"
            ]
          },
          "execution_count": 68,
          "metadata": {},
          "output_type": "execute_result"
        }
      ],
      "source": [
        "df2"
      ]
    },
    {
      "cell_type": "code",
      "execution_count": null,
      "metadata": {
        "id": "UfrDJBzNcLGa",
        "outputId": "3c933909-8d8a-4f07-e891-6ff8ac328c4e"
      },
      "outputs": [
        {
          "data": {
            "text/html": [
              "<div>\n",
              "<style scoped>\n",
              "    .dataframe tbody tr th:only-of-type {\n",
              "        vertical-align: middle;\n",
              "    }\n",
              "\n",
              "    .dataframe tbody tr th {\n",
              "        vertical-align: top;\n",
              "    }\n",
              "\n",
              "    .dataframe thead th {\n",
              "        text-align: right;\n",
              "    }\n",
              "</style>\n",
              "<table border=\"1\" class=\"dataframe\">\n",
              "  <thead>\n",
              "    <tr style=\"text-align: right;\">\n",
              "      <th></th>\n",
              "      <th>n1</th>\n",
              "      <th>n2</th>\n",
              "      <th>n3</th>\n",
              "    </tr>\n",
              "  </thead>\n",
              "  <tbody>\n",
              "    <tr>\n",
              "      <th>r3</th>\n",
              "      <td>Tiger3</td>\n",
              "      <td>Bear3</td>\n",
              "      <td>Moose3</td>\n",
              "    </tr>\n",
              "  </tbody>\n",
              "</table>\n",
              "</div>"
            ],
            "text/plain": [
              "        n1     n2      n3\n",
              "r3  Tiger3  Bear3  Moose3"
            ]
          },
          "execution_count": 69,
          "metadata": {},
          "output_type": "execute_result"
        }
      ],
      "source": [
        "df"
      ]
    },
    {
      "cell_type": "code",
      "execution_count": null,
      "metadata": {
        "id": "QNF_EaRvcLGa",
        "outputId": "2590b77b-c4ef-487a-ba08-1ede87f8ec94"
      },
      "outputs": [
        {
          "data": {
            "text/html": [
              "<div>\n",
              "<style scoped>\n",
              "    .dataframe tbody tr th:only-of-type {\n",
              "        vertical-align: middle;\n",
              "    }\n",
              "\n",
              "    .dataframe tbody tr th {\n",
              "        vertical-align: top;\n",
              "    }\n",
              "\n",
              "    .dataframe thead th {\n",
              "        text-align: right;\n",
              "    }\n",
              "</style>\n",
              "<table border=\"1\" class=\"dataframe\">\n",
              "  <thead>\n",
              "    <tr style=\"text-align: right;\">\n",
              "      <th></th>\n",
              "      <th>n1</th>\n",
              "      <th>n2</th>\n",
              "      <th>n3</th>\n",
              "    </tr>\n",
              "  </thead>\n",
              "  <tbody>\n",
              "    <tr>\n",
              "      <th>r1</th>\n",
              "      <td>Tiger</td>\n",
              "      <td>Bear</td>\n",
              "      <td>Moose</td>\n",
              "    </tr>\n",
              "    <tr>\n",
              "      <th>r2</th>\n",
              "      <td>Tiger2</td>\n",
              "      <td>Bear2</td>\n",
              "      <td>Moose2</td>\n",
              "    </tr>\n",
              "    <tr>\n",
              "      <th>r3</th>\n",
              "      <td>Tiger3</td>\n",
              "      <td>Bear3</td>\n",
              "      <td>Moose3</td>\n",
              "    </tr>\n",
              "  </tbody>\n",
              "</table>\n",
              "</div>"
            ],
            "text/plain": [
              "        n1     n2      n3\n",
              "r1   Tiger   Bear   Moose\n",
              "r2  Tiger2  Bear2  Moose2\n",
              "r3  Tiger3  Bear3  Moose3"
            ]
          },
          "execution_count": 70,
          "metadata": {},
          "output_type": "execute_result"
        }
      ],
      "source": [
        "animals = {\n",
        "    'n1': 'Tiger',\n",
        "    'n2': 'Bear',\n",
        "    'n3': 'Moose'\n",
        "}\n",
        "p_animals = pd.Series(animals)\n",
        "animals = {\n",
        "    'n1': 'Tiger2',\n",
        "    'n2': 'Bear2',\n",
        "    'n3': 'Moose2'\n",
        "}\n",
        "p_animals2 = pd.Series(animals)\n",
        "animals = {\n",
        "    'n1': 'Tiger3',\n",
        "    'n2': 'Bear3',\n",
        "    'n3': 'Moose3'\n",
        "}\n",
        "p_animals3 = pd.Series(animals)\n",
        "\n",
        "df = pd.DataFrame([p_animals, p_animals2, p_animals3], index=['r1', 'r2', 'r3'])\n",
        "df"
      ]
    },
    {
      "cell_type": "code",
      "execution_count": null,
      "metadata": {
        "id": "ar_3u8kQcLGb",
        "outputId": "229e6595-c7af-4685-801f-b604ce991a3d"
      },
      "outputs": [
        {
          "data": {
            "text/html": [
              "<div>\n",
              "<style scoped>\n",
              "    .dataframe tbody tr th:only-of-type {\n",
              "        vertical-align: middle;\n",
              "    }\n",
              "\n",
              "    .dataframe tbody tr th {\n",
              "        vertical-align: top;\n",
              "    }\n",
              "\n",
              "    .dataframe thead th {\n",
              "        text-align: right;\n",
              "    }\n",
              "</style>\n",
              "<table border=\"1\" class=\"dataframe\">\n",
              "  <thead>\n",
              "    <tr style=\"text-align: right;\">\n",
              "      <th></th>\n",
              "      <th>n1</th>\n",
              "      <th>n2</th>\n",
              "    </tr>\n",
              "  </thead>\n",
              "  <tbody>\n",
              "    <tr>\n",
              "      <th>r1</th>\n",
              "      <td>Tiger</td>\n",
              "      <td>Bear</td>\n",
              "    </tr>\n",
              "    <tr>\n",
              "      <th>r2</th>\n",
              "      <td>Tiger2</td>\n",
              "      <td>Bear2</td>\n",
              "    </tr>\n",
              "    <tr>\n",
              "      <th>r3</th>\n",
              "      <td>Tiger3</td>\n",
              "      <td>Bear3</td>\n",
              "    </tr>\n",
              "  </tbody>\n",
              "</table>\n",
              "</div>"
            ],
            "text/plain": [
              "        n1     n2\n",
              "r1   Tiger   Bear\n",
              "r2  Tiger2  Bear2\n",
              "r3  Tiger3  Bear3"
            ]
          },
          "execution_count": 73,
          "metadata": {},
          "output_type": "execute_result"
        }
      ],
      "source": [
        "df3 = df[['n1', 'n2']]\n",
        "df3"
      ]
    },
    {
      "cell_type": "code",
      "execution_count": null,
      "metadata": {
        "id": "Wpz9I1HjcLGb"
      },
      "outputs": [],
      "source": [
        "df3.drop('r1', inplace=True)"
      ]
    },
    {
      "cell_type": "code",
      "execution_count": null,
      "metadata": {
        "id": "ul2ER91scLGc",
        "outputId": "1f2de17b-7558-4643-8eae-105ad77e1ee2"
      },
      "outputs": [
        {
          "data": {
            "text/html": [
              "<div>\n",
              "<style scoped>\n",
              "    .dataframe tbody tr th:only-of-type {\n",
              "        vertical-align: middle;\n",
              "    }\n",
              "\n",
              "    .dataframe tbody tr th {\n",
              "        vertical-align: top;\n",
              "    }\n",
              "\n",
              "    .dataframe thead th {\n",
              "        text-align: right;\n",
              "    }\n",
              "</style>\n",
              "<table border=\"1\" class=\"dataframe\">\n",
              "  <thead>\n",
              "    <tr style=\"text-align: right;\">\n",
              "      <th></th>\n",
              "      <th>n1</th>\n",
              "      <th>n2</th>\n",
              "    </tr>\n",
              "  </thead>\n",
              "  <tbody>\n",
              "    <tr>\n",
              "      <th>r2</th>\n",
              "      <td>Tiger2</td>\n",
              "      <td>Bear2</td>\n",
              "    </tr>\n",
              "    <tr>\n",
              "      <th>r3</th>\n",
              "      <td>Tiger3</td>\n",
              "      <td>Bear3</td>\n",
              "    </tr>\n",
              "  </tbody>\n",
              "</table>\n",
              "</div>"
            ],
            "text/plain": [
              "        n1     n2\n",
              "r2  Tiger2  Bear2\n",
              "r3  Tiger3  Bear3"
            ]
          },
          "execution_count": 78,
          "metadata": {},
          "output_type": "execute_result"
        }
      ],
      "source": [
        "df3"
      ]
    },
    {
      "cell_type": "code",
      "execution_count": null,
      "metadata": {
        "id": "g76BoB_IcLGd",
        "outputId": "8e2699b2-386b-45d5-8139-b3198fa1ab29"
      },
      "outputs": [
        {
          "data": {
            "text/html": [
              "<div>\n",
              "<style scoped>\n",
              "    .dataframe tbody tr th:only-of-type {\n",
              "        vertical-align: middle;\n",
              "    }\n",
              "\n",
              "    .dataframe tbody tr th {\n",
              "        vertical-align: top;\n",
              "    }\n",
              "\n",
              "    .dataframe thead th {\n",
              "        text-align: right;\n",
              "    }\n",
              "</style>\n",
              "<table border=\"1\" class=\"dataframe\">\n",
              "  <thead>\n",
              "    <tr style=\"text-align: right;\">\n",
              "      <th></th>\n",
              "      <th>n1</th>\n",
              "      <th>n2</th>\n",
              "      <th>n3</th>\n",
              "    </tr>\n",
              "  </thead>\n",
              "  <tbody>\n",
              "    <tr>\n",
              "      <th>r1</th>\n",
              "      <td>Tiger</td>\n",
              "      <td>Bear</td>\n",
              "      <td>Moose</td>\n",
              "    </tr>\n",
              "    <tr>\n",
              "      <th>r2</th>\n",
              "      <td>Tiger2</td>\n",
              "      <td>Bear2</td>\n",
              "      <td>Moose2</td>\n",
              "    </tr>\n",
              "    <tr>\n",
              "      <th>r3</th>\n",
              "      <td>Tiger3</td>\n",
              "      <td>Bear3</td>\n",
              "      <td>Moose3</td>\n",
              "    </tr>\n",
              "  </tbody>\n",
              "</table>\n",
              "</div>"
            ],
            "text/plain": [
              "        n1     n2      n3\n",
              "r1   Tiger   Bear   Moose\n",
              "r2  Tiger2  Bear2  Moose2\n",
              "r3  Tiger3  Bear3  Moose3"
            ]
          },
          "execution_count": 77,
          "metadata": {},
          "output_type": "execute_result"
        }
      ],
      "source": [
        "df"
      ]
    },
    {
      "cell_type": "code",
      "execution_count": null,
      "metadata": {
        "id": "9mL8yLozcLGe",
        "outputId": "af1f1966-5ff1-4cc4-ce41-d8341d971315"
      },
      "outputs": [
        {
          "data": {
            "text/html": [
              "<div>\n",
              "<style scoped>\n",
              "    .dataframe tbody tr th:only-of-type {\n",
              "        vertical-align: middle;\n",
              "    }\n",
              "\n",
              "    .dataframe tbody tr th {\n",
              "        vertical-align: top;\n",
              "    }\n",
              "\n",
              "    .dataframe thead th {\n",
              "        text-align: right;\n",
              "    }\n",
              "</style>\n",
              "<table border=\"1\" class=\"dataframe\">\n",
              "  <thead>\n",
              "    <tr style=\"text-align: right;\">\n",
              "      <th></th>\n",
              "      <th>n1</th>\n",
              "      <th>n2</th>\n",
              "      <th>n3</th>\n",
              "    </tr>\n",
              "  </thead>\n",
              "  <tbody>\n",
              "    <tr>\n",
              "      <th>r1</th>\n",
              "      <td>Tiger</td>\n",
              "      <td>Bear</td>\n",
              "      <td>Moose</td>\n",
              "    </tr>\n",
              "    <tr>\n",
              "      <th>r2</th>\n",
              "      <td>Tiger2</td>\n",
              "      <td>Bear2</td>\n",
              "      <td>Moose2</td>\n",
              "    </tr>\n",
              "    <tr>\n",
              "      <th>r3</th>\n",
              "      <td>Tiger3</td>\n",
              "      <td>Bear3</td>\n",
              "      <td>Moose3</td>\n",
              "    </tr>\n",
              "  </tbody>\n",
              "</table>\n",
              "</div>"
            ],
            "text/plain": [
              "        n1     n2      n3\n",
              "r1   Tiger   Bear   Moose\n",
              "r2  Tiger2  Bear2  Moose2\n",
              "r3  Tiger3  Bear3  Moose3"
            ]
          },
          "execution_count": 80,
          "metadata": {},
          "output_type": "execute_result"
        }
      ],
      "source": [
        "df4 = df[:]\n",
        "df4"
      ]
    },
    {
      "cell_type": "code",
      "execution_count": null,
      "metadata": {
        "id": "vYRikOKHcLGe"
      },
      "outputs": [],
      "source": [
        "df4.drop('r1', inplace=True)"
      ]
    },
    {
      "cell_type": "code",
      "execution_count": null,
      "metadata": {
        "id": "Yzyp5YrScLGe",
        "outputId": "d509058b-9aba-4838-c1bb-5a3137431206"
      },
      "outputs": [
        {
          "data": {
            "text/html": [
              "<div>\n",
              "<style scoped>\n",
              "    .dataframe tbody tr th:only-of-type {\n",
              "        vertical-align: middle;\n",
              "    }\n",
              "\n",
              "    .dataframe tbody tr th {\n",
              "        vertical-align: top;\n",
              "    }\n",
              "\n",
              "    .dataframe thead th {\n",
              "        text-align: right;\n",
              "    }\n",
              "</style>\n",
              "<table border=\"1\" class=\"dataframe\">\n",
              "  <thead>\n",
              "    <tr style=\"text-align: right;\">\n",
              "      <th></th>\n",
              "      <th>n1</th>\n",
              "      <th>n2</th>\n",
              "      <th>n3</th>\n",
              "    </tr>\n",
              "  </thead>\n",
              "  <tbody>\n",
              "    <tr>\n",
              "      <th>r1</th>\n",
              "      <td>Tiger</td>\n",
              "      <td>Bear</td>\n",
              "      <td>Moose</td>\n",
              "    </tr>\n",
              "    <tr>\n",
              "      <th>r2</th>\n",
              "      <td>Tiger2</td>\n",
              "      <td>Bear2</td>\n",
              "      <td>Moose2</td>\n",
              "    </tr>\n",
              "    <tr>\n",
              "      <th>r3</th>\n",
              "      <td>Tiger3</td>\n",
              "      <td>Bear3</td>\n",
              "      <td>Moose3</td>\n",
              "    </tr>\n",
              "  </tbody>\n",
              "</table>\n",
              "</div>"
            ],
            "text/plain": [
              "        n1     n2      n3\n",
              "r1   Tiger   Bear   Moose\n",
              "r2  Tiger2  Bear2  Moose2\n",
              "r3  Tiger3  Bear3  Moose3"
            ]
          },
          "execution_count": 83,
          "metadata": {},
          "output_type": "execute_result"
        }
      ],
      "source": [
        "df"
      ]
    },
    {
      "cell_type": "code",
      "execution_count": null,
      "metadata": {
        "id": "GJubgU6_cLGf",
        "outputId": "bfd31321-b94b-40f3-c315-a116cd2ae04d"
      },
      "outputs": [
        {
          "data": {
            "text/html": [
              "<div>\n",
              "<style scoped>\n",
              "    .dataframe tbody tr th:only-of-type {\n",
              "        vertical-align: middle;\n",
              "    }\n",
              "\n",
              "    .dataframe tbody tr th {\n",
              "        vertical-align: top;\n",
              "    }\n",
              "\n",
              "    .dataframe thead th {\n",
              "        text-align: right;\n",
              "    }\n",
              "</style>\n",
              "<table border=\"1\" class=\"dataframe\">\n",
              "  <thead>\n",
              "    <tr style=\"text-align: right;\">\n",
              "      <th></th>\n",
              "      <th>n1</th>\n",
              "      <th>n2</th>\n",
              "      <th>n3</th>\n",
              "    </tr>\n",
              "  </thead>\n",
              "  <tbody>\n",
              "    <tr>\n",
              "      <th>r1</th>\n",
              "      <td>Tiger</td>\n",
              "      <td>Bear</td>\n",
              "      <td>Moose</td>\n",
              "    </tr>\n",
              "    <tr>\n",
              "      <th>r2</th>\n",
              "      <td>Tiger2</td>\n",
              "      <td>Bear2</td>\n",
              "      <td>Moose2</td>\n",
              "    </tr>\n",
              "    <tr>\n",
              "      <th>r3</th>\n",
              "      <td>Tiger3</td>\n",
              "      <td>Bear3</td>\n",
              "      <td>Moose3</td>\n",
              "    </tr>\n",
              "  </tbody>\n",
              "</table>\n",
              "</div>"
            ],
            "text/plain": [
              "        n1     n2      n3\n",
              "r1   Tiger   Bear   Moose\n",
              "r2  Tiger2  Bear2  Moose2\n",
              "r3  Tiger3  Bear3  Moose3"
            ]
          },
          "execution_count": 84,
          "metadata": {},
          "output_type": "execute_result"
        }
      ],
      "source": [
        "df"
      ]
    },
    {
      "cell_type": "code",
      "execution_count": null,
      "metadata": {
        "id": "4N-9BE1McLGf"
      },
      "outputs": [],
      "source": [
        "df['n1'] = 1"
      ]
    },
    {
      "cell_type": "code",
      "execution_count": null,
      "metadata": {
        "id": "ZLgriv8WcLGf",
        "outputId": "e87766d9-93be-46f6-a6eb-e6919fcd1a8a"
      },
      "outputs": [
        {
          "data": {
            "text/html": [
              "<div>\n",
              "<style scoped>\n",
              "    .dataframe tbody tr th:only-of-type {\n",
              "        vertical-align: middle;\n",
              "    }\n",
              "\n",
              "    .dataframe tbody tr th {\n",
              "        vertical-align: top;\n",
              "    }\n",
              "\n",
              "    .dataframe thead th {\n",
              "        text-align: right;\n",
              "    }\n",
              "</style>\n",
              "<table border=\"1\" class=\"dataframe\">\n",
              "  <thead>\n",
              "    <tr style=\"text-align: right;\">\n",
              "      <th></th>\n",
              "      <th>n1</th>\n",
              "      <th>n2</th>\n",
              "      <th>n3</th>\n",
              "    </tr>\n",
              "  </thead>\n",
              "  <tbody>\n",
              "    <tr>\n",
              "      <th>r1</th>\n",
              "      <td>1</td>\n",
              "      <td>Bear</td>\n",
              "      <td>Moose</td>\n",
              "    </tr>\n",
              "    <tr>\n",
              "      <th>r2</th>\n",
              "      <td>1</td>\n",
              "      <td>Bear2</td>\n",
              "      <td>Moose2</td>\n",
              "    </tr>\n",
              "    <tr>\n",
              "      <th>r3</th>\n",
              "      <td>1</td>\n",
              "      <td>Bear3</td>\n",
              "      <td>Moose3</td>\n",
              "    </tr>\n",
              "  </tbody>\n",
              "</table>\n",
              "</div>"
            ],
            "text/plain": [
              "    n1     n2      n3\n",
              "r1   1   Bear   Moose\n",
              "r2   1  Bear2  Moose2\n",
              "r3   1  Bear3  Moose3"
            ]
          },
          "execution_count": 87,
          "metadata": {},
          "output_type": "execute_result"
        }
      ],
      "source": [
        "df"
      ]
    },
    {
      "cell_type": "code",
      "execution_count": null,
      "metadata": {
        "id": "kIqAH7LpcLGf"
      },
      "outputs": [],
      "source": [
        "df['n1'] = df['n1'] * 2"
      ]
    },
    {
      "cell_type": "code",
      "execution_count": null,
      "metadata": {
        "id": "ql1IeYpNcLGg",
        "outputId": "69491a81-d545-4e0d-abc9-6160b2d2faf1"
      },
      "outputs": [
        {
          "data": {
            "text/html": [
              "<div>\n",
              "<style scoped>\n",
              "    .dataframe tbody tr th:only-of-type {\n",
              "        vertical-align: middle;\n",
              "    }\n",
              "\n",
              "    .dataframe tbody tr th {\n",
              "        vertical-align: top;\n",
              "    }\n",
              "\n",
              "    .dataframe thead th {\n",
              "        text-align: right;\n",
              "    }\n",
              "</style>\n",
              "<table border=\"1\" class=\"dataframe\">\n",
              "  <thead>\n",
              "    <tr style=\"text-align: right;\">\n",
              "      <th></th>\n",
              "      <th>n1</th>\n",
              "      <th>n2</th>\n",
              "      <th>n3</th>\n",
              "    </tr>\n",
              "  </thead>\n",
              "  <tbody>\n",
              "    <tr>\n",
              "      <th>r1</th>\n",
              "      <td>2</td>\n",
              "      <td>Bear</td>\n",
              "      <td>Moose</td>\n",
              "    </tr>\n",
              "    <tr>\n",
              "      <th>r2</th>\n",
              "      <td>2</td>\n",
              "      <td>Bear2</td>\n",
              "      <td>Moose2</td>\n",
              "    </tr>\n",
              "    <tr>\n",
              "      <th>r3</th>\n",
              "      <td>2</td>\n",
              "      <td>Bear3</td>\n",
              "      <td>Moose3</td>\n",
              "    </tr>\n",
              "  </tbody>\n",
              "</table>\n",
              "</div>"
            ],
            "text/plain": [
              "    n1     n2      n3\n",
              "r1   2   Bear   Moose\n",
              "r2   2  Bear2  Moose2\n",
              "r3   2  Bear3  Moose3"
            ]
          },
          "execution_count": 89,
          "metadata": {},
          "output_type": "execute_result"
        }
      ],
      "source": [
        "df"
      ]
    },
    {
      "cell_type": "code",
      "execution_count": null,
      "metadata": {
        "id": "vLv0cu1CcLGg"
      },
      "outputs": [],
      "source": [
        "n2 = df['n2']"
      ]
    },
    {
      "cell_type": "code",
      "execution_count": null,
      "metadata": {
        "id": "W4cPCgSscLGg"
      },
      "outputs": [],
      "source": [
        "n2 += '!'"
      ]
    },
    {
      "cell_type": "code",
      "execution_count": null,
      "metadata": {
        "id": "r7_MleGCcLGg",
        "outputId": "ee2519aa-7b7f-40b0-9e15-6b6ebb43059e"
      },
      "outputs": [
        {
          "data": {
            "text/plain": [
              "r1     Bear!\n",
              "r2    Bear2!\n",
              "r3    Bear3!\n",
              "Name: n2, dtype: object"
            ]
          },
          "execution_count": 93,
          "metadata": {},
          "output_type": "execute_result"
        }
      ],
      "source": [
        "n2"
      ]
    },
    {
      "cell_type": "code",
      "execution_count": null,
      "metadata": {
        "id": "LTaOfMhXcLGh",
        "outputId": "59e6e396-2a66-470f-d57c-bba1c5ae1500"
      },
      "outputs": [
        {
          "data": {
            "text/html": [
              "<div>\n",
              "<style scoped>\n",
              "    .dataframe tbody tr th:only-of-type {\n",
              "        vertical-align: middle;\n",
              "    }\n",
              "\n",
              "    .dataframe tbody tr th {\n",
              "        vertical-align: top;\n",
              "    }\n",
              "\n",
              "    .dataframe thead th {\n",
              "        text-align: right;\n",
              "    }\n",
              "</style>\n",
              "<table border=\"1\" class=\"dataframe\">\n",
              "  <thead>\n",
              "    <tr style=\"text-align: right;\">\n",
              "      <th></th>\n",
              "      <th>n1</th>\n",
              "      <th>n2</th>\n",
              "      <th>n3</th>\n",
              "    </tr>\n",
              "  </thead>\n",
              "  <tbody>\n",
              "    <tr>\n",
              "      <th>r1</th>\n",
              "      <td>2</td>\n",
              "      <td>Bear!</td>\n",
              "      <td>Moose</td>\n",
              "    </tr>\n",
              "    <tr>\n",
              "      <th>r2</th>\n",
              "      <td>2</td>\n",
              "      <td>Bear2!</td>\n",
              "      <td>Moose2</td>\n",
              "    </tr>\n",
              "    <tr>\n",
              "      <th>r3</th>\n",
              "      <td>2</td>\n",
              "      <td>Bear3!</td>\n",
              "      <td>Moose3</td>\n",
              "    </tr>\n",
              "  </tbody>\n",
              "</table>\n",
              "</div>"
            ],
            "text/plain": [
              "    n1      n2      n3\n",
              "r1   2   Bear!   Moose\n",
              "r2   2  Bear2!  Moose2\n",
              "r3   2  Bear3!  Moose3"
            ]
          },
          "execution_count": 94,
          "metadata": {},
          "output_type": "execute_result"
        }
      ],
      "source": [
        "df"
      ]
    },
    {
      "cell_type": "code",
      "execution_count": null,
      "metadata": {
        "id": "vdTtIWLQcLGh"
      },
      "outputs": [],
      "source": []
    }
  ],
  "metadata": {
    "kernelspec": {
      "display_name": "Python 3",
      "language": "python",
      "name": "python3"
    },
    "language_info": {
      "codemirror_mode": {
        "name": "ipython",
        "version": 3
      },
      "file_extension": ".py",
      "mimetype": "text/x-python",
      "name": "python",
      "nbconvert_exporter": "python",
      "pygments_lexer": "ipython3",
      "version": "3.7.6"
    },
    "colab": {
      "provenance": []
    }
  },
  "nbformat": 4,
  "nbformat_minor": 0
}