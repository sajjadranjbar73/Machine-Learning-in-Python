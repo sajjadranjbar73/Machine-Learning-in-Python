{
 "cells": [
  {
   "cell_type": "code",
   "execution_count": 2,
   "metadata": {},
   "outputs": [],
   "source": [
    "import pandas as pd\n",
    "import numpy as np\n",
    "import imblearn\n",
    "import random"
   ]
  },
  {
   "cell_type": "code",
   "execution_count": 5,
   "metadata": {},
   "outputs": [
    {
     "data": {
      "text/html": [
       "<div>\n",
       "<style scoped>\n",
       "    .dataframe tbody tr th:only-of-type {\n",
       "        vertical-align: middle;\n",
       "    }\n",
       "\n",
       "    .dataframe tbody tr th {\n",
       "        vertical-align: top;\n",
       "    }\n",
       "\n",
       "    .dataframe thead th {\n",
       "        text-align: right;\n",
       "    }\n",
       "</style>\n",
       "<table border=\"1\" class=\"dataframe\">\n",
       "  <thead>\n",
       "    <tr style=\"text-align: right;\">\n",
       "      <th></th>\n",
       "      <th>id</th>\n",
       "      <th>target</th>\n",
       "      <th>ps_ind_01</th>\n",
       "      <th>ps_ind_02_cat</th>\n",
       "      <th>ps_ind_03</th>\n",
       "      <th>ps_ind_04_cat</th>\n",
       "      <th>ps_ind_05_cat</th>\n",
       "      <th>ps_ind_06_bin</th>\n",
       "      <th>ps_ind_07_bin</th>\n",
       "      <th>ps_ind_08_bin</th>\n",
       "      <th>...</th>\n",
       "      <th>ps_calc_11</th>\n",
       "      <th>ps_calc_12</th>\n",
       "      <th>ps_calc_13</th>\n",
       "      <th>ps_calc_14</th>\n",
       "      <th>ps_calc_15_bin</th>\n",
       "      <th>ps_calc_16_bin</th>\n",
       "      <th>ps_calc_17_bin</th>\n",
       "      <th>ps_calc_18_bin</th>\n",
       "      <th>ps_calc_19_bin</th>\n",
       "      <th>ps_calc_20_bin</th>\n",
       "    </tr>\n",
       "  </thead>\n",
       "  <tbody>\n",
       "    <tr>\n",
       "      <th>0</th>\n",
       "      <td>16</td>\n",
       "      <td>0</td>\n",
       "      <td>0</td>\n",
       "      <td>1</td>\n",
       "      <td>2</td>\n",
       "      <td>0</td>\n",
       "      <td>0</td>\n",
       "      <td>1</td>\n",
       "      <td>0</td>\n",
       "      <td>0</td>\n",
       "      <td>...</td>\n",
       "      <td>2</td>\n",
       "      <td>2</td>\n",
       "      <td>4</td>\n",
       "      <td>9</td>\n",
       "      <td>0</td>\n",
       "      <td>0</td>\n",
       "      <td>0</td>\n",
       "      <td>0</td>\n",
       "      <td>0</td>\n",
       "      <td>0</td>\n",
       "    </tr>\n",
       "    <tr>\n",
       "      <th>1</th>\n",
       "      <td>46</td>\n",
       "      <td>0</td>\n",
       "      <td>5</td>\n",
       "      <td>1</td>\n",
       "      <td>11</td>\n",
       "      <td>0</td>\n",
       "      <td>0</td>\n",
       "      <td>0</td>\n",
       "      <td>0</td>\n",
       "      <td>0</td>\n",
       "      <td>...</td>\n",
       "      <td>4</td>\n",
       "      <td>1</td>\n",
       "      <td>3</td>\n",
       "      <td>9</td>\n",
       "      <td>0</td>\n",
       "      <td>0</td>\n",
       "      <td>0</td>\n",
       "      <td>0</td>\n",
       "      <td>1</td>\n",
       "      <td>0</td>\n",
       "    </tr>\n",
       "    <tr>\n",
       "      <th>2</th>\n",
       "      <td>121</td>\n",
       "      <td>0</td>\n",
       "      <td>2</td>\n",
       "      <td>1</td>\n",
       "      <td>6</td>\n",
       "      <td>0</td>\n",
       "      <td>0</td>\n",
       "      <td>1</td>\n",
       "      <td>0</td>\n",
       "      <td>0</td>\n",
       "      <td>...</td>\n",
       "      <td>7</td>\n",
       "      <td>1</td>\n",
       "      <td>2</td>\n",
       "      <td>3</td>\n",
       "      <td>0</td>\n",
       "      <td>0</td>\n",
       "      <td>1</td>\n",
       "      <td>0</td>\n",
       "      <td>0</td>\n",
       "      <td>0</td>\n",
       "    </tr>\n",
       "    <tr>\n",
       "      <th>3</th>\n",
       "      <td>583</td>\n",
       "      <td>0</td>\n",
       "      <td>0</td>\n",
       "      <td>1</td>\n",
       "      <td>6</td>\n",
       "      <td>1</td>\n",
       "      <td>0</td>\n",
       "      <td>0</td>\n",
       "      <td>1</td>\n",
       "      <td>0</td>\n",
       "      <td>...</td>\n",
       "      <td>5</td>\n",
       "      <td>3</td>\n",
       "      <td>2</td>\n",
       "      <td>6</td>\n",
       "      <td>0</td>\n",
       "      <td>1</td>\n",
       "      <td>1</td>\n",
       "      <td>0</td>\n",
       "      <td>0</td>\n",
       "      <td>0</td>\n",
       "    </tr>\n",
       "    <tr>\n",
       "      <th>4</th>\n",
       "      <td>1112</td>\n",
       "      <td>0</td>\n",
       "      <td>7</td>\n",
       "      <td>1</td>\n",
       "      <td>6</td>\n",
       "      <td>0</td>\n",
       "      <td>6</td>\n",
       "      <td>0</td>\n",
       "      <td>0</td>\n",
       "      <td>0</td>\n",
       "      <td>...</td>\n",
       "      <td>3</td>\n",
       "      <td>1</td>\n",
       "      <td>5</td>\n",
       "      <td>5</td>\n",
       "      <td>0</td>\n",
       "      <td>1</td>\n",
       "      <td>1</td>\n",
       "      <td>0</td>\n",
       "      <td>0</td>\n",
       "      <td>0</td>\n",
       "    </tr>\n",
       "  </tbody>\n",
       "</table>\n",
       "<p>5 rows × 59 columns</p>\n",
       "</div>"
      ],
      "text/plain": [
       "     id  target  ps_ind_01  ps_ind_02_cat  ps_ind_03  ps_ind_04_cat  \\\n",
       "0    16       0          0              1          2              0   \n",
       "1    46       0          5              1         11              0   \n",
       "2   121       0          2              1          6              0   \n",
       "3   583       0          0              1          6              1   \n",
       "4  1112       0          7              1          6              0   \n",
       "\n",
       "   ps_ind_05_cat  ps_ind_06_bin  ps_ind_07_bin  ps_ind_08_bin  ...  \\\n",
       "0              0              1              0              0  ...   \n",
       "1              0              0              0              0  ...   \n",
       "2              0              1              0              0  ...   \n",
       "3              0              0              1              0  ...   \n",
       "4              6              0              0              0  ...   \n",
       "\n",
       "   ps_calc_11  ps_calc_12  ps_calc_13  ps_calc_14  ps_calc_15_bin  \\\n",
       "0           2           2           4           9               0   \n",
       "1           4           1           3           9               0   \n",
       "2           7           1           2           3               0   \n",
       "3           5           3           2           6               0   \n",
       "4           3           1           5           5               0   \n",
       "\n",
       "   ps_calc_16_bin  ps_calc_17_bin  ps_calc_18_bin  ps_calc_19_bin  \\\n",
       "0               0               0               0               0   \n",
       "1               0               0               0               1   \n",
       "2               0               1               0               0   \n",
       "3               1               1               0               0   \n",
       "4               1               1               0               0   \n",
       "\n",
       "   ps_calc_20_bin  \n",
       "0               0  \n",
       "1               0  \n",
       "2               0  \n",
       "3               0  \n",
       "4               0  \n",
       "\n",
       "[5 rows x 59 columns]"
      ]
     },
     "execution_count": 5,
     "metadata": {},
     "output_type": "execute_result"
    }
   ],
   "source": [
    "n = 10000\n",
    "skip = sorted(random.sample(range(1, 595212), 595212 - n))\n",
    "data = pd.read_csv('train.csv', skiprows=skip)\n",
    "data.head()"
   ]
  },
  {
   "cell_type": "code",
   "execution_count": 6,
   "metadata": {},
   "outputs": [
    {
     "data": {
      "text/plain": [
       "10000"
      ]
     },
     "execution_count": 6,
     "metadata": {},
     "output_type": "execute_result"
    }
   ],
   "source": [
    "len(data)"
   ]
  },
  {
   "cell_type": "code",
   "execution_count": 7,
   "metadata": {},
   "outputs": [
    {
     "data": {
      "text/html": [
       "<div>\n",
       "<style scoped>\n",
       "    .dataframe tbody tr th:only-of-type {\n",
       "        vertical-align: middle;\n",
       "    }\n",
       "\n",
       "    .dataframe tbody tr th {\n",
       "        vertical-align: top;\n",
       "    }\n",
       "\n",
       "    .dataframe thead th {\n",
       "        text-align: right;\n",
       "    }\n",
       "</style>\n",
       "<table border=\"1\" class=\"dataframe\">\n",
       "  <thead>\n",
       "    <tr style=\"text-align: right;\">\n",
       "      <th></th>\n",
       "      <th>ps_ind_01</th>\n",
       "      <th>ps_ind_02_cat</th>\n",
       "      <th>ps_ind_03</th>\n",
       "      <th>ps_ind_04_cat</th>\n",
       "      <th>ps_ind_05_cat</th>\n",
       "      <th>ps_ind_06_bin</th>\n",
       "      <th>ps_ind_07_bin</th>\n",
       "      <th>ps_ind_08_bin</th>\n",
       "      <th>ps_ind_09_bin</th>\n",
       "      <th>ps_ind_10_bin</th>\n",
       "      <th>...</th>\n",
       "      <th>ps_calc_11</th>\n",
       "      <th>ps_calc_12</th>\n",
       "      <th>ps_calc_13</th>\n",
       "      <th>ps_calc_14</th>\n",
       "      <th>ps_calc_15_bin</th>\n",
       "      <th>ps_calc_16_bin</th>\n",
       "      <th>ps_calc_17_bin</th>\n",
       "      <th>ps_calc_18_bin</th>\n",
       "      <th>ps_calc_19_bin</th>\n",
       "      <th>ps_calc_20_bin</th>\n",
       "    </tr>\n",
       "  </thead>\n",
       "  <tbody>\n",
       "    <tr>\n",
       "      <th>0</th>\n",
       "      <td>0</td>\n",
       "      <td>1</td>\n",
       "      <td>2</td>\n",
       "      <td>0</td>\n",
       "      <td>0</td>\n",
       "      <td>1</td>\n",
       "      <td>0</td>\n",
       "      <td>0</td>\n",
       "      <td>0</td>\n",
       "      <td>0</td>\n",
       "      <td>...</td>\n",
       "      <td>2</td>\n",
       "      <td>2</td>\n",
       "      <td>4</td>\n",
       "      <td>9</td>\n",
       "      <td>0</td>\n",
       "      <td>0</td>\n",
       "      <td>0</td>\n",
       "      <td>0</td>\n",
       "      <td>0</td>\n",
       "      <td>0</td>\n",
       "    </tr>\n",
       "    <tr>\n",
       "      <th>1</th>\n",
       "      <td>5</td>\n",
       "      <td>1</td>\n",
       "      <td>11</td>\n",
       "      <td>0</td>\n",
       "      <td>0</td>\n",
       "      <td>0</td>\n",
       "      <td>0</td>\n",
       "      <td>0</td>\n",
       "      <td>1</td>\n",
       "      <td>0</td>\n",
       "      <td>...</td>\n",
       "      <td>4</td>\n",
       "      <td>1</td>\n",
       "      <td>3</td>\n",
       "      <td>9</td>\n",
       "      <td>0</td>\n",
       "      <td>0</td>\n",
       "      <td>0</td>\n",
       "      <td>0</td>\n",
       "      <td>1</td>\n",
       "      <td>0</td>\n",
       "    </tr>\n",
       "    <tr>\n",
       "      <th>2</th>\n",
       "      <td>2</td>\n",
       "      <td>1</td>\n",
       "      <td>6</td>\n",
       "      <td>0</td>\n",
       "      <td>0</td>\n",
       "      <td>1</td>\n",
       "      <td>0</td>\n",
       "      <td>0</td>\n",
       "      <td>0</td>\n",
       "      <td>0</td>\n",
       "      <td>...</td>\n",
       "      <td>7</td>\n",
       "      <td>1</td>\n",
       "      <td>2</td>\n",
       "      <td>3</td>\n",
       "      <td>0</td>\n",
       "      <td>0</td>\n",
       "      <td>1</td>\n",
       "      <td>0</td>\n",
       "      <td>0</td>\n",
       "      <td>0</td>\n",
       "    </tr>\n",
       "    <tr>\n",
       "      <th>3</th>\n",
       "      <td>0</td>\n",
       "      <td>1</td>\n",
       "      <td>6</td>\n",
       "      <td>1</td>\n",
       "      <td>0</td>\n",
       "      <td>0</td>\n",
       "      <td>1</td>\n",
       "      <td>0</td>\n",
       "      <td>0</td>\n",
       "      <td>0</td>\n",
       "      <td>...</td>\n",
       "      <td>5</td>\n",
       "      <td>3</td>\n",
       "      <td>2</td>\n",
       "      <td>6</td>\n",
       "      <td>0</td>\n",
       "      <td>1</td>\n",
       "      <td>1</td>\n",
       "      <td>0</td>\n",
       "      <td>0</td>\n",
       "      <td>0</td>\n",
       "    </tr>\n",
       "    <tr>\n",
       "      <th>4</th>\n",
       "      <td>7</td>\n",
       "      <td>1</td>\n",
       "      <td>6</td>\n",
       "      <td>0</td>\n",
       "      <td>6</td>\n",
       "      <td>0</td>\n",
       "      <td>0</td>\n",
       "      <td>0</td>\n",
       "      <td>1</td>\n",
       "      <td>0</td>\n",
       "      <td>...</td>\n",
       "      <td>3</td>\n",
       "      <td>1</td>\n",
       "      <td>5</td>\n",
       "      <td>5</td>\n",
       "      <td>0</td>\n",
       "      <td>1</td>\n",
       "      <td>1</td>\n",
       "      <td>0</td>\n",
       "      <td>0</td>\n",
       "      <td>0</td>\n",
       "    </tr>\n",
       "  </tbody>\n",
       "</table>\n",
       "<p>5 rows × 57 columns</p>\n",
       "</div>"
      ],
      "text/plain": [
       "   ps_ind_01  ps_ind_02_cat  ps_ind_03  ps_ind_04_cat  ps_ind_05_cat  \\\n",
       "0          0              1          2              0              0   \n",
       "1          5              1         11              0              0   \n",
       "2          2              1          6              0              0   \n",
       "3          0              1          6              1              0   \n",
       "4          7              1          6              0              6   \n",
       "\n",
       "   ps_ind_06_bin  ps_ind_07_bin  ps_ind_08_bin  ps_ind_09_bin  ps_ind_10_bin  \\\n",
       "0              1              0              0              0              0   \n",
       "1              0              0              0              1              0   \n",
       "2              1              0              0              0              0   \n",
       "3              0              1              0              0              0   \n",
       "4              0              0              0              1              0   \n",
       "\n",
       "   ...  ps_calc_11  ps_calc_12  ps_calc_13  ps_calc_14  ps_calc_15_bin  \\\n",
       "0  ...           2           2           4           9               0   \n",
       "1  ...           4           1           3           9               0   \n",
       "2  ...           7           1           2           3               0   \n",
       "3  ...           5           3           2           6               0   \n",
       "4  ...           3           1           5           5               0   \n",
       "\n",
       "   ps_calc_16_bin  ps_calc_17_bin  ps_calc_18_bin  ps_calc_19_bin  \\\n",
       "0               0               0               0               0   \n",
       "1               0               0               0               1   \n",
       "2               0               1               0               0   \n",
       "3               1               1               0               0   \n",
       "4               1               1               0               0   \n",
       "\n",
       "   ps_calc_20_bin  \n",
       "0               0  \n",
       "1               0  \n",
       "2               0  \n",
       "3               0  \n",
       "4               0  \n",
       "\n",
       "[5 rows x 57 columns]"
      ]
     },
     "execution_count": 7,
     "metadata": {},
     "output_type": "execute_result"
    }
   ],
   "source": [
    "X = data.iloc[:, 2:]\n",
    "X.head()"
   ]
  },
  {
   "cell_type": "code",
   "execution_count": 8,
   "metadata": {},
   "outputs": [],
   "source": [
    "y = data['target']"
   ]
  },
  {
   "cell_type": "code",
   "execution_count": 9,
   "metadata": {},
   "outputs": [
    {
     "data": {
      "text/plain": [
       "[1, 3, 4, 21, 22, 23, 24, 25, 26, 27, 28, 29, 30, 31]"
      ]
     },
     "execution_count": 9,
     "metadata": {},
     "output_type": "execute_result"
    }
   ],
   "source": [
    "cat_col = [i for i in range(0, len(X.columns)) if 'cat' in X.columns[i]]\n",
    "cat_col"
   ]
  },
  {
   "cell_type": "code",
   "execution_count": 12,
   "metadata": {},
   "outputs": [],
   "source": [
    "from imblearn.under_sampling import TomekLinks\n",
    "tl = TomekLinks()\n",
    "X_tl, y_tl = tl.fit_sample(X, y)"
   ]
  },
  {
   "cell_type": "code",
   "execution_count": 13,
   "metadata": {},
   "outputs": [
    {
     "data": {
      "text/plain": [
       "(9875, 57)"
      ]
     },
     "execution_count": 13,
     "metadata": {},
     "output_type": "execute_result"
    }
   ],
   "source": [
    "np.shape(X_tl)"
   ]
  },
  {
   "cell_type": "code",
   "execution_count": 14,
   "metadata": {},
   "outputs": [],
   "source": [
    "from imblearn.over_sampling import SMOTE\n",
    "sm = SMOTE()\n",
    "X_sm, y_sm = sm.fit_sample(X, y)"
   ]
  },
  {
   "cell_type": "code",
   "execution_count": 15,
   "metadata": {},
   "outputs": [
    {
     "data": {
      "text/plain": [
       "(19286, 57)"
      ]
     },
     "execution_count": 15,
     "metadata": {},
     "output_type": "execute_result"
    }
   ],
   "source": [
    "np.shape(X_sm)"
   ]
  },
  {
   "cell_type": "code",
   "execution_count": 17,
   "metadata": {},
   "outputs": [
    {
     "data": {
      "text/plain": [
       "(array([0, 1]), array([9643, 9643]))"
      ]
     },
     "execution_count": 17,
     "metadata": {},
     "output_type": "execute_result"
    }
   ],
   "source": [
    "np.unique(y_sm, return_counts=True)"
   ]
  },
  {
   "cell_type": "code",
   "execution_count": 19,
   "metadata": {},
   "outputs": [],
   "source": [
    "from imblearn.combine import SMOTETomek\n",
    "smt = SMOTETomek()\n",
    "X_smt, y_smt = smt.fit_sample(X, y)"
   ]
  },
  {
   "cell_type": "code",
   "execution_count": 20,
   "metadata": {},
   "outputs": [
    {
     "data": {
      "text/plain": [
       "(19286, 57)"
      ]
     },
     "execution_count": 20,
     "metadata": {},
     "output_type": "execute_result"
    }
   ],
   "source": [
    "np.shape(X_smt)"
   ]
  },
  {
   "cell_type": "code",
   "execution_count": 23,
   "metadata": {},
   "outputs": [
    {
     "data": {
      "text/plain": [
       "(array([0, 1]), array([9643, 9643]))"
      ]
     },
     "execution_count": 23,
     "metadata": {},
     "output_type": "execute_result"
    }
   ],
   "source": [
    "np.unique(y_smt, return_counts=True)"
   ]
  },
  {
   "cell_type": "code",
   "execution_count": 20,
   "metadata": {},
   "outputs": [],
   "source": [
    "from sklearn.model_selection import train_test_split\n",
    "X_train, X_test, y_train, y_test = train_test_split(X, y)"
   ]
  },
  {
   "cell_type": "code",
   "execution_count": 24,
   "metadata": {},
   "outputs": [],
   "source": [
    "model = CatBoostClassifier(iterations=100, learning_rate=0.1, depth=6, eval_metric='Accuracy', verbose=10, task_type='GPU')"
   ]
  },
  {
   "cell_type": "code",
   "execution_count": 25,
   "metadata": {},
   "outputs": [
    {
     "name": "stdout",
     "output_type": "stream",
     "text": [
      "0:\tlearn: 0.9633318\ttest: 0.9642144\tbest: 0.9642144 (0)\ttotal: 190ms\tremaining: 18.8s\n",
      "10:\tlearn: 0.9633318\ttest: 0.9642144\tbest: 0.9642144 (0)\ttotal: 2.01s\tremaining: 16.2s\n",
      "20:\tlearn: 0.9633341\ttest: 0.9642144\tbest: 0.9642144 (0)\ttotal: 3.73s\tremaining: 14s\n",
      "30:\tlearn: 0.9633341\ttest: 0.9642144\tbest: 0.9642212 (28)\ttotal: 5.55s\tremaining: 12.4s\n",
      "40:\tlearn: 0.9633430\ttest: 0.9642144\tbest: 0.9642212 (28)\ttotal: 7.39s\tremaining: 10.6s\n",
      "50:\tlearn: 0.9633587\ttest: 0.9642144\tbest: 0.9642212 (28)\ttotal: 9.08s\tremaining: 8.73s\n",
      "60:\tlearn: 0.9633610\ttest: 0.9642144\tbest: 0.9642212 (28)\ttotal: 10.9s\tremaining: 6.98s\n",
      "70:\tlearn: 0.9633610\ttest: 0.9642212\tbest: 0.9642212 (28)\ttotal: 12.9s\tremaining: 5.27s\n",
      "80:\tlearn: 0.9633610\ttest: 0.9642212\tbest: 0.9642212 (28)\ttotal: 14.6s\tremaining: 3.42s\n",
      "90:\tlearn: 0.9633610\ttest: 0.9642279\tbest: 0.9642279 (87)\ttotal: 16.3s\tremaining: 1.61s\n",
      "99:\tlearn: 0.9633632\ttest: 0.9642144\tbest: 0.9642279 (87)\ttotal: 17.7s\tremaining: 0us\n",
      "bestTest = 0.9642278717\n",
      "bestIteration = 87\n",
      "Shrink model to first 88 iterations.\n"
     ]
    },
    {
     "data": {
      "text/plain": [
       "<catboost.core.CatBoostClassifier at 0x7f98f798b590>"
      ]
     },
     "execution_count": 25,
     "metadata": {},
     "output_type": "execute_result"
    }
   ],
   "source": [
    "model.fit(X_train, y_train, cat_col, eval_set=(X_test, y_test))"
   ]
  },
  {
   "cell_type": "code",
   "execution_count": 26,
   "metadata": {},
   "outputs": [],
   "source": [
    "y_pred = model.predict(X_test)"
   ]
  },
  {
   "cell_type": "code",
   "execution_count": 27,
   "metadata": {},
   "outputs": [
    {
     "data": {
      "text/plain": [
       "array([0, 0, 0, ..., 0, 0, 0])"
      ]
     },
     "execution_count": 27,
     "metadata": {},
     "output_type": "execute_result"
    }
   ],
   "source": [
    "y_pred"
   ]
  },
  {
   "cell_type": "code",
   "execution_count": 28,
   "metadata": {},
   "outputs": [
    {
     "data": {
      "text/plain": [
       "array([[143476,      2],\n",
       "       [  5321,      4]])"
      ]
     },
     "execution_count": 28,
     "metadata": {},
     "output_type": "execute_result"
    }
   ],
   "source": [
    "from sklearn.metrics import confusion_matrix\n",
    "cm = confusion_matrix(y_true=y_test, y_pred=y_pred)\n",
    "cm"
   ]
  },
  {
   "cell_type": "code",
   "execution_count": 30,
   "metadata": {},
   "outputs": [
    {
     "name": "stdout",
     "output_type": "stream",
     "text": [
      "              precision    recall  f1-score   support\n",
      "\n",
      "           0       0.96      1.00      0.98    143478\n",
      "           1       0.67      0.00      0.00      5325\n",
      "\n",
      "    accuracy                           0.96    148803\n",
      "   macro avg       0.82      0.50      0.49    148803\n",
      "weighted avg       0.95      0.96      0.95    148803\n",
      "\n"
     ]
    }
   ],
   "source": [
    "from sklearn.metrics import classification_report\n",
    "print(classification_report(y_true=y_test, y_pred=y_pred))"
   ]
  },
  {
   "cell_type": "code",
   "execution_count": 32,
   "metadata": {},
   "outputs": [],
   "source": [
    "from imblearn.under_sampling import RandomUnderSampler\n",
    "rus = RandomUnderSampler()\n",
    "X_rus, y_rus = rus.fit_sample(X, y)"
   ]
  },
  {
   "cell_type": "code",
   "execution_count": 33,
   "metadata": {},
   "outputs": [
    {
     "data": {
      "text/plain": [
       "(43388, 57)"
      ]
     },
     "execution_count": 33,
     "metadata": {},
     "output_type": "execute_result"
    }
   ],
   "source": [
    "np.shape(X_rus)"
   ]
  },
  {
   "cell_type": "code",
   "execution_count": 36,
   "metadata": {},
   "outputs": [
    {
     "data": {
      "text/plain": [
       "(array([0, 1]), array([21694, 21694]))"
      ]
     },
     "execution_count": 36,
     "metadata": {},
     "output_type": "execute_result"
    }
   ],
   "source": [
    "np.unique(y_rus, return_counts=True)"
   ]
  },
  {
   "cell_type": "code",
   "execution_count": 38,
   "metadata": {},
   "outputs": [],
   "source": [
    "X_train, X_test, y_train, y_test = train_test_split(X_rus, y_rus)"
   ]
  },
  {
   "cell_type": "code",
   "execution_count": 39,
   "metadata": {},
   "outputs": [],
   "source": [
    "model = CatBoostClassifier(iterations=300, learning_rate=0.1, depth=6, eval_metric='Accuracy', verbose=10, task_type='GPU')"
   ]
  },
  {
   "cell_type": "code",
   "execution_count": 40,
   "metadata": {},
   "outputs": [
    {
     "name": "stdout",
     "output_type": "stream",
     "text": [
      "0:\tlearn: 0.5678375\ttest: 0.5652254\tbest: 0.5652254 (0)\ttotal: 80.6ms\tremaining: 24.1s\n",
      "10:\tlearn: 0.5803141\ttest: 0.5692818\tbest: 0.5696506 (8)\ttotal: 839ms\tremaining: 22s\n",
      "20:\tlearn: 0.5909161\ttest: 0.5777634\tbest: 0.5777634 (20)\ttotal: 1.58s\tremaining: 21s\n",
      "30:\tlearn: 0.5964783\ttest: 0.5802526\tbest: 0.5811745 (28)\ttotal: 2.3s\tremaining: 20s\n",
      "40:\tlearn: 0.6009957\ttest: 0.5813589\tbest: 0.5814511 (33)\ttotal: 3.08s\tremaining: 19.5s\n",
      "50:\tlearn: 0.6031468\ttest: 0.5846778\tbest: 0.5848622 (49)\ttotal: 3.94s\tremaining: 19.2s\n",
      "60:\tlearn: 0.6063120\ttest: 0.5856919\tbest: 0.5869826 (58)\ttotal: 4.85s\tremaining: 19s\n",
      "70:\tlearn: 0.6079408\ttest: 0.5867982\tbest: 0.5869826 (58)\ttotal: 5.7s\tremaining: 18.4s\n",
      "80:\tlearn: 0.6102455\ttest: 0.5871670\tbest: 0.5882733 (78)\ttotal: 6.47s\tremaining: 17.5s\n",
      "90:\tlearn: 0.6114440\ttest: 0.5885498\tbest: 0.5885498 (90)\ttotal: 7.24s\tremaining: 16.6s\n",
      "100:\tlearn: 0.6140561\ttest: 0.5888264\tbest: 0.5903937 (95)\ttotal: 7.99s\tremaining: 15.8s\n",
      "110:\tlearn: 0.6150088\ttest: 0.5892874\tbest: 0.5903937 (95)\ttotal: 8.75s\tremaining: 14.9s\n",
      "120:\tlearn: 0.6171906\ttest: 0.5887342\tbest: 0.5903937 (95)\ttotal: 9.53s\tremaining: 14.1s\n",
      "130:\tlearn: 0.6207861\ttest: 0.5895639\tbest: 0.5903937 (95)\ttotal: 10.3s\tremaining: 13.2s\n",
      "140:\tlearn: 0.6223841\ttest: 0.5894717\tbest: 0.5914078 (132)\ttotal: 11s\tremaining: 12.4s\n",
      "150:\tlearn: 0.6239821\ttest: 0.5901171\tbest: 0.5914078 (132)\ttotal: 11.7s\tremaining: 11.6s\n",
      "160:\tlearn: 0.6249962\ttest: 0.5896561\tbest: 0.5914078 (132)\ttotal: 12.5s\tremaining: 10.8s\n",
      "170:\tlearn: 0.6273624\ttest: 0.5886420\tbest: 0.5914078 (132)\ttotal: 13.3s\tremaining: 10s\n",
      "180:\tlearn: 0.6289911\ttest: 0.5906702\tbest: 0.5914078 (132)\ttotal: 14.2s\tremaining: 9.34s\n",
      "190:\tlearn: 0.6312344\ttest: 0.5910390\tbest: 0.5915000 (188)\ttotal: 15.2s\tremaining: 8.66s\n",
      "200:\tlearn: 0.6330168\ttest: 0.5925141\tbest: 0.5928828 (193)\ttotal: 15.9s\tremaining: 7.82s\n",
      "210:\tlearn: 0.6338773\ttest: 0.5919609\tbest: 0.5928828 (193)\ttotal: 16.6s\tremaining: 7s\n",
      "220:\tlearn: 0.6343997\ttest: 0.5927906\tbest: 0.5932516 (218)\ttotal: 17.3s\tremaining: 6.18s\n",
      "230:\tlearn: 0.6352601\ttest: 0.5926063\tbest: 0.5932516 (218)\ttotal: 18.3s\tremaining: 5.45s\n",
      "240:\tlearn: 0.6366737\ttest: 0.5931594\tbest: 0.5938969 (235)\ttotal: 19s\tremaining: 4.64s\n",
      "250:\tlearn: 0.6370425\ttest: 0.5929750\tbest: 0.5938969 (235)\ttotal: 19.7s\tremaining: 3.85s\n",
      "260:\tlearn: 0.6393780\ttest: 0.5934360\tbest: 0.5941735 (255)\ttotal: 20.5s\tremaining: 3.06s\n",
      "270:\tlearn: 0.6414062\ttest: 0.5929750\tbest: 0.5941735 (255)\ttotal: 21.3s\tremaining: 2.28s\n",
      "280:\tlearn: 0.6427584\ttest: 0.5918687\tbest: 0.5941735 (255)\ttotal: 22s\tremaining: 1.49s\n",
      "290:\tlearn: 0.6444178\ttest: 0.5912234\tbest: 0.5941735 (255)\ttotal: 22.7s\tremaining: 702ms\n",
      "299:\tlearn: 0.6457392\ttest: 0.5896561\tbest: 0.5941735 (255)\ttotal: 23.3s\tremaining: 0us\n",
      "bestTest = 0.5941735042\n",
      "bestIteration = 255\n",
      "Shrink model to first 256 iterations.\n"
     ]
    },
    {
     "data": {
      "text/plain": [
       "<catboost.core.CatBoostClassifier at 0x7f9884183a50>"
      ]
     },
     "execution_count": 40,
     "metadata": {},
     "output_type": "execute_result"
    }
   ],
   "source": [
    "model.fit(X_train, y_train, cat_col, eval_set=(X_test, y_test))"
   ]
  },
  {
   "cell_type": "code",
   "execution_count": 41,
   "metadata": {},
   "outputs": [],
   "source": [
    "y_pred = model.predict(X_test)"
   ]
  },
  {
   "cell_type": "code",
   "execution_count": 42,
   "metadata": {},
   "outputs": [
    {
     "name": "stdout",
     "output_type": "stream",
     "text": [
      "              precision    recall  f1-score   support\n",
      "\n",
      "           0       0.60      0.61      0.61      5488\n",
      "           1       0.59      0.57      0.58      5359\n",
      "\n",
      "    accuracy                           0.59     10847\n",
      "   macro avg       0.59      0.59      0.59     10847\n",
      "weighted avg       0.59      0.59      0.59     10847\n",
      "\n"
     ]
    }
   ],
   "source": [
    "print(classification_report(y_true=y_test, y_pred=y_pred))"
   ]
  },
  {
   "cell_type": "code",
   "execution_count": 43,
   "metadata": {},
   "outputs": [],
   "source": [
    "from imblearn.over_sampling import RandomOverSampler\n",
    "ros = RandomOverSampler()\n",
    "X_ros, y_ros = ros.fit_sample(X, y)"
   ]
  },
  {
   "cell_type": "code",
   "execution_count": 44,
   "metadata": {},
   "outputs": [
    {
     "data": {
      "text/plain": [
       "(1147036, 57)"
      ]
     },
     "execution_count": 44,
     "metadata": {},
     "output_type": "execute_result"
    }
   ],
   "source": [
    "np.shape(X_ros)"
   ]
  },
  {
   "cell_type": "code",
   "execution_count": 45,
   "metadata": {},
   "outputs": [
    {
     "data": {
      "text/plain": [
       "(array([0, 1]), array([573518, 573518]))"
      ]
     },
     "execution_count": 45,
     "metadata": {},
     "output_type": "execute_result"
    }
   ],
   "source": [
    "np.unique(y_ros, return_counts=True)"
   ]
  },
  {
   "cell_type": "code",
   "execution_count": 46,
   "metadata": {},
   "outputs": [],
   "source": [
    "del X\n",
    "del y\n",
    "del X_rus\n",
    "del y_rus\n",
    "del data\n",
    "del model\n",
    "del X_train\n",
    "del X_test\n",
    "del y_train\n",
    "del y_test "
   ]
  },
  {
   "cell_type": "code",
   "execution_count": 47,
   "metadata": {},
   "outputs": [],
   "source": [
    "model = CatBoostClassifier(iterations=300, learning_rate=0.1, depth=6, eval_metric='Accuracy', verbose=10, task_type='GPU')"
   ]
  },
  {
   "cell_type": "code",
   "execution_count": 48,
   "metadata": {},
   "outputs": [],
   "source": [
    "X_train, X_test, y_train, y_test = train_test_split(X_ros, y_ros)"
   ]
  },
  {
   "cell_type": "code",
   "execution_count": 49,
   "metadata": {},
   "outputs": [
    {
     "name": "stdout",
     "output_type": "stream",
     "text": [
      "0:\tlearn: 0.5935135\ttest: 0.5987153\tbest: 0.5987153 (0)\ttotal: 2.19s\tremaining: 10m 54s\n",
      "10:\tlearn: 0.6166944\ttest: 0.6227773\tbest: 0.6227773 (10)\ttotal: 25s\tremaining: 10m 56s\n",
      "20:\tlearn: 0.6371587\ttest: 0.6440426\tbest: 0.6440426 (20)\ttotal: 47.2s\tremaining: 10m 26s\n",
      "30:\tlearn: 0.6542718\ttest: 0.6619426\tbest: 0.6619426 (30)\ttotal: 1m 9s\tremaining: 10m 1s\n",
      "40:\tlearn: 0.6689101\ttest: 0.6789883\tbest: 0.6789883 (40)\ttotal: 1m 30s\tremaining: 9m 29s\n",
      "50:\tlearn: 0.6780072\ttest: 0.6888677\tbest: 0.6888677 (50)\ttotal: 1m 53s\tremaining: 9m 12s\n",
      "60:\tlearn: 0.6843854\ttest: 0.6948309\tbest: 0.6948309 (60)\ttotal: 2m 14s\tremaining: 8m 45s\n",
      "70:\tlearn: 0.6915982\ttest: 0.7028690\tbest: 0.7028690 (70)\ttotal: 2m 36s\tremaining: 8m 23s\n",
      "80:\tlearn: 0.6975718\ttest: 0.7089193\tbest: 0.7089193 (80)\ttotal: 2m 57s\tremaining: 8m\n",
      "90:\tlearn: 0.7022424\ttest: 0.7145652\tbest: 0.7145652 (90)\ttotal: 3m 20s\tremaining: 7m 39s\n",
      "100:\tlearn: 0.7085369\ttest: 0.7204517\tbest: 0.7204517 (100)\ttotal: 3m 42s\tremaining: 7m 18s\n",
      "110:\tlearn: 0.7145396\ttest: 0.7278028\tbest: 0.7278028 (110)\ttotal: 4m 8s\tremaining: 7m 2s\n",
      "120:\tlearn: 0.7171492\ttest: 0.7293930\tbest: 0.7296929 (117)\ttotal: 4m 32s\tremaining: 6m 43s\n",
      "130:\tlearn: 0.7212747\ttest: 0.7345890\tbest: 0.7345890 (130)\ttotal: 4m 58s\tremaining: 6m 25s\n",
      "140:\tlearn: 0.7242330\ttest: 0.7375008\tbest: 0.7375008 (140)\ttotal: 5m 22s\tremaining: 6m 3s\n",
      "150:\tlearn: 0.7297022\ttest: 0.7436349\tbest: 0.7436733 (148)\ttotal: 5m 45s\tremaining: 5m 40s\n",
      "160:\tlearn: 0.7323118\ttest: 0.7459435\tbest: 0.7463724 (157)\ttotal: 6m 5s\tremaining: 5m 15s\n",
      "170:\tlearn: 0.7336904\ttest: 0.7474604\tbest: 0.7474604 (170)\ttotal: 6m 26s\tremaining: 4m 51s\n",
      "180:\tlearn: 0.7354422\ttest: 0.7490471\tbest: 0.7490471 (180)\ttotal: 6m 47s\tremaining: 4m 28s\n",
      "190:\tlearn: 0.7399954\ttest: 0.7534759\tbest: 0.7534759 (190)\ttotal: 7m 8s\tremaining: 4m 4s\n",
      "200:\tlearn: 0.7418122\ttest: 0.7552544\tbest: 0.7552544 (200)\ttotal: 7m 29s\tremaining: 3m 41s\n",
      "210:\tlearn: 0.7439999\ttest: 0.7580477\tbest: 0.7585255 (209)\ttotal: 7m 50s\tremaining: 3m 18s\n",
      "220:\tlearn: 0.7472977\ttest: 0.7605132\tbest: 0.7605132 (220)\ttotal: 8m 12s\tremaining: 2m 55s\n",
      "230:\tlearn: 0.7484531\ttest: 0.7624870\tbest: 0.7624870 (230)\ttotal: 8m 33s\tremaining: 2m 33s\n",
      "240:\tlearn: 0.7508895\ttest: 0.7651129\tbest: 0.7651129 (240)\ttotal: 8m 54s\tremaining: 2m 10s\n",
      "250:\tlearn: 0.7528412\ttest: 0.7671006\tbest: 0.7671006 (250)\ttotal: 9m 15s\tremaining: 1m 48s\n",
      "260:\tlearn: 0.7538793\ttest: 0.7680805\tbest: 0.7680805 (260)\ttotal: 9m 35s\tremaining: 1m 26s\n",
      "270:\tlearn: 0.7546255\ttest: 0.7683386\tbest: 0.7684641 (268)\ttotal: 9m 56s\tremaining: 1m 3s\n",
      "280:\tlearn: 0.7556113\ttest: 0.7694580\tbest: 0.7694963 (279)\ttotal: 10m 16s\tremaining: 41.7s\n",
      "290:\tlearn: 0.7588788\ttest: 0.7729138\tbest: 0.7729138 (290)\ttotal: 10m 37s\tremaining: 19.7s\n",
      "299:\tlearn: 0.7603284\ttest: 0.7746400\tbest: 0.7746400 (299)\ttotal: 10m 56s\tremaining: 0us\n",
      "bestTest = 0.7746400287\n",
      "bestIteration = 299\n"
     ]
    },
    {
     "data": {
      "text/plain": [
       "<catboost.core.CatBoostClassifier at 0x7f9884113c10>"
      ]
     },
     "execution_count": 49,
     "metadata": {},
     "output_type": "execute_result"
    }
   ],
   "source": [
    "model.fit(X_train, y_train, cat_col, eval_set=(X_test, y_test))"
   ]
  },
  {
   "cell_type": "code",
   "execution_count": 50,
   "metadata": {},
   "outputs": [],
   "source": [
    "y_pred = model.predict(X_test)"
   ]
  },
  {
   "cell_type": "code",
   "execution_count": 51,
   "metadata": {},
   "outputs": [
    {
     "name": "stdout",
     "output_type": "stream",
     "text": [
      "              precision    recall  f1-score   support\n",
      "\n",
      "           0       0.78      0.76      0.77    143093\n",
      "           1       0.77      0.79      0.78    143666\n",
      "\n",
      "    accuracy                           0.77    286759\n",
      "   macro avg       0.78      0.77      0.77    286759\n",
      "weighted avg       0.78      0.77      0.77    286759\n",
      "\n"
     ]
    }
   ],
   "source": [
    "print(classification_report(y_true=y_test, y_pred=y_pred))"
   ]
  }
 ],
 "metadata": {
  "kernelspec": {
   "display_name": "Python 3",
   "language": "python",
   "name": "python3"
  },
  "language_info": {
   "codemirror_mode": {
    "name": "ipython",
    "version": 3
   },
   "file_extension": ".py",
   "mimetype": "text/x-python",
   "name": "python",
   "nbconvert_exporter": "python",
   "pygments_lexer": "ipython3",
   "version": "3.7.6"
  }
 },
 "nbformat": 4,
 "nbformat_minor": 4
}
